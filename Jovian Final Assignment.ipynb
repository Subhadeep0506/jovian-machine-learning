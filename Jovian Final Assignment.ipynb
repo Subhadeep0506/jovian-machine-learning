{
"cells": [
{
"cell_type": "markdown",
"metadata": {},
"source": [
"# Complete Machine Learning Project Assignment"
]
},
{
"cell_type": "markdown",
"metadata": {},
"source": [
"One of the biggest challenges of an auto dealership purchasing a used car at an auto auction is the risk of that the vehicle might have serious issues that prevent it from being sold to customers. The auto community calls these unfortunate purchases \"kicks\".\n",
"\n",
"Kicked cars often result when there are tampered odometers, mechanical issues the dealer is not able to address, issues with getting the vehicle title from the seller, or some other unforeseen problem. Kick cars can be very costly to dealers after transportation cost, throw-away repair work, and market losses in reselling the vehicle.\n",
"\n",
"Modelers who can figure out which cars have a higher risk of being kick can provide real value to dealerships trying to provide the best inventory selection possible to their customers.\n",
"\n",
"The challenge of this competition is to predict if the car purchased at the Auction is a Kick (bad buy)."
]
},
{
"cell_type": "markdown",
"metadata": {},
"source": [
"I am using the [Don't Get Kicked!](https://www.kaggle.com/competitions/DontGetKicked/data) competetion data in this project. \n",
"\n",
"## Dataset Description\n",
"- The challenge of this competition is to predict if the car purchased at the Auction is a good / bad buy.\n",
"- All the variables in the data set are defined in the file Carvana_Data_Dictionary.txt \n",
"- The data contains missing values \n",
"- The dependent variable (IsBadBuy) is binary (C2)\n",
"- There are 32 Independent variables (C3-C34)\n",
"- The data set is split to 60% training and 40% testing."
]
},
{
"cell_type": "markdown",
"metadata": {},
"source": [
"## Importing modules"
]
},
{
"cell_type": "code",
"execution_count": 1,
"metadata": {
"colab": {
"base_uri": "https://localhost:8080/"
},
"id": "Ck_gF1sHikee",
"outputId": "8e73c5e2-c590-4985-a7ad-cd0a5d0a9969",
"scrolled": true
},
"outputs": [
{
"name": "stdout",
"output_type": "stream",
"text": [
"Requirement already satisfied: numpy in /opt/conda/lib/python3.9/site-packages (1.20.3)\n",
"Requirement already satisfied: pandas in /opt/conda/lib/python3.9/site-packages (1.3.4)\n",
"Requirement already satisfied: scikit-learn in /opt/conda/lib/python3.9/site-packages (1.0.1)\n",
"Requirement already satisfied: matplotlib in /opt/conda/lib/python3.9/site-packages (3.4.3)\n",
"Requirement already satisfied: seaborn in /opt/conda/lib/python3.9/site-packages (0.11.2)\n",
"Requirement already satisfied: jovian in /opt/conda/lib/python3.9/site-packages (0.2.47)\n",
"Collecting opendatasets\n",
"  Downloading opendatasets-0.1.22-py3-none-any.whl (15 kB)\n",
"Collecting imblearn\n",
"  Downloading imblearn-0.0-py2.py3-none-any.whl (1.9 kB)\n",
"Requirement already satisfied: python-dateutil>=2.7.3 in /opt/conda/lib/python3.9/site-packages (from pandas) (2.8.2)\n",
"Requirement already satisfied: pytz>=2017.3 in /opt/conda/lib/python3.9/site-packages (from pandas) (2021.3)\n",
"Requirement already satisfied: scipy>=1.1.0 in /opt/conda/lib/python3.9/site-packages (from scikit-learn) (1.7.2)\n",
"Requirement already satisfied: threadpoolctl>=2.0.0 in /opt/conda/lib/python3.9/site-packages (from scikit-learn) (3.0.0)\n",
"Requirement already satisfied: joblib>=0.11 in /opt/conda/lib/python3.9/site-packages (from scikit-learn) (1.1.0)\n",
"Requirement already satisfied: cycler>=0.10 in /opt/conda/lib/python3.9/site-packages (from matplotlib) (0.11.0)\n",
"Requirement already satisfied: pyparsing>=2.2.1 in /opt/conda/lib/python3.9/site-packages (from matplotlib) (2.4.7)\n",
"Requirement already satisfied: pillow>=6.2.0 in /opt/conda/lib/python3.9/site-packages (from matplotlib) (8.3.2)\n",
"Requirement already satisfied: kiwisolver>=1.0.1 in /opt/conda/lib/python3.9/site-packages (from matplotlib) (1.3.2)\n",
"Requirement already satisfied: click in /opt/conda/lib/python3.9/site-packages (from jovian) (8.0.3)\n",
"Requirement already satisfied: uuid in /opt/conda/lib/python3.9/site-packages (from jovian) (1.30)\n",
"Requirement already satisfied: requests in /opt/conda/lib/python3.9/site-packages (from jovian) (2.26.0)\n",
"Requirement already satisfied: pyyaml in /opt/conda/lib/python3.9/site-packages (from jovian) (6.0)\n",
"Requirement already satisfied: tqdm in /opt/conda/lib/python3.9/site-packages (from opendatasets) (4.62.3)\n",
"Collecting kaggle\n",
"  Downloading kaggle-1.5.13.tar.gz (63 kB)\n",
"     |â–ˆâ–ˆâ–ˆâ–ˆâ–ˆâ–ˆâ–ˆâ–ˆâ–ˆâ–ˆâ–ˆâ–ˆâ–ˆâ–ˆâ–ˆâ–ˆâ–ˆâ–ˆâ–ˆâ–ˆâ–ˆâ–ˆâ–ˆâ–ˆâ–ˆâ–ˆâ–ˆâ–ˆâ–ˆâ–ˆâ–ˆâ–ˆ| 63 kB 2.2 MB/s             \n",
"\u001b[?25h  Preparing metadata (setup.py) ... \u001b[?25ldone\n",
"\u001b[?25hCollecting imbalanced-learn\n",
"  Downloading imbalanced_learn-0.10.1-py3-none-any.whl (226 kB)\n",
"     |â–ˆâ–ˆâ–ˆâ–ˆâ–ˆâ–ˆâ–ˆâ–ˆâ–ˆâ–ˆâ–ˆâ–ˆâ–ˆâ–ˆâ–ˆâ–ˆâ–ˆâ–ˆâ–ˆâ–ˆâ–ˆâ–ˆâ–ˆâ–ˆâ–ˆâ–ˆâ–ˆâ–ˆâ–ˆâ–ˆâ–ˆâ–ˆ| 226 kB 12.7 MB/s            \n",
"\u001b[?25hRequirement already satisfied: six>=1.5 in /opt/conda/lib/python3.9/site-packages (from python-dateutil>=2.7.3->pandas) (1.16.0)\n",
"Collecting joblib>=0.11\n",
"  Downloading joblib-1.2.0-py3-none-any.whl (297 kB)\n",
"     |â–ˆâ–ˆâ–ˆâ–ˆâ–ˆâ–ˆâ–ˆâ–ˆâ–ˆâ–ˆâ–ˆâ–ˆâ–ˆâ–ˆâ–ˆâ–ˆâ–ˆâ–ˆâ–ˆâ–ˆâ–ˆâ–ˆâ–ˆâ–ˆâ–ˆâ–ˆâ–ˆâ–ˆâ–ˆâ–ˆâ–ˆâ–ˆ| 297 kB 64.8 MB/s            \n",
"\u001b[?25hCollecting scikit-learn\n",
"  Downloading scikit_learn-1.2.2-cp39-cp39-manylinux_2_17_x86_64.manylinux2014_x86_64.whl (9.6 MB)\n",
"     |â–ˆâ–ˆâ–ˆâ–ˆâ–ˆâ–ˆâ–ˆâ–ˆâ–ˆâ–ˆâ–ˆâ–ˆâ–ˆâ–ˆâ–ˆâ–ˆâ–ˆâ–ˆâ–ˆâ–ˆâ–ˆâ–ˆâ–ˆâ–ˆâ–ˆâ–ˆâ–ˆâ–ˆâ–ˆâ–ˆâ–ˆâ–ˆ| 9.6 MB 51.6 MB/s            \n",
"\u001b[?25hRequirement already satisfied: certifi in /opt/conda/lib/python3.9/site-packages (from kaggle->opendatasets) (2021.10.8)\n",
"Collecting python-slugify\n",
"  Downloading python_slugify-8.0.1-py2.py3-none-any.whl (9.7 kB)\n",
"Requirement already satisfied: urllib3 in /opt/conda/lib/python3.9/site-packages (from kaggle->opendatasets) (1.26.7)\n",
"Requirement already satisfied: idna<4,>=2.5 in /opt/conda/lib/python3.9/site-packages (from requests->jovian) (3.1)\n",
"Requirement already satisfied: charset-normalizer~=2.0.0 in /opt/conda/lib/python3.9/site-packages (from requests->jovian) (2.0.0)\n",
"Collecting text-unidecode>=1.3\n",
"  Downloading text_unidecode-1.3-py2.py3-none-any.whl (78 kB)\n",
"     |â–ˆâ–ˆâ–ˆâ–ˆâ–ˆâ–ˆâ–ˆâ–ˆâ–ˆâ–ˆâ–ˆâ–ˆâ–ˆâ–ˆâ–ˆâ–ˆâ–ˆâ–ˆâ–ˆâ–ˆâ–ˆâ–ˆâ–ˆâ–ˆâ–ˆâ–ˆâ–ˆâ–ˆâ–ˆâ–ˆâ–ˆâ–ˆ| 78 kB 9.5 MB/s             \n",
"\u001b[?25hBuilding wheels for collected packages: kaggle\n",
"  Building wheel for kaggle (setup.py) ... \u001b[?25ldone\n",
"\u001b[?25h  Created wheel for kaggle: filename=kaggle-1.5.13-py3-none-any.whl size=77734 sha256=16fba396c168f5fd329be4cfe604df73bdfe71e4b0927c8a908c3b8c10ddb4d8\n",
"  Stored in directory: /home/jovyan/.cache/pip/wheels/9c/45/15/6d6d116cd2539fb8f450d64b0aee4a480e5366bb11b42ac763\n",
"Successfully built kaggle\n",
"Installing collected packages: text-unidecode, joblib, scikit-learn, python-slugify, kaggle, imbalanced-learn, opendatasets, imblearn\n",
"  Attempting uninstall: joblib\n",
"    Found existing installation: joblib 1.1.0\n",
"    Uninstalling joblib-1.1.0:\n",
"      Successfully uninstalled joblib-1.1.0\n",
"  Attempting uninstall: scikit-learn\n",
"    Found existing installation: scikit-learn 1.0.1\n",
"    Uninstalling scikit-learn-1.0.1:\n",
"      Successfully uninstalled scikit-learn-1.0.1\n",
"Successfully installed imbalanced-learn-0.10.1 imblearn-0.0 joblib-1.2.0 kaggle-1.5.13 opendatasets-0.1.22 python-slugify-8.0.1 scikit-learn-1.2.2 text-unidecode-1.3\n"
]
}
],
"source": [
"!pip install numpy pandas scikit-learn matplotlib seaborn jovian opendatasets imblearn"
]
},
{
"cell_type": "code",
"execution_count": 2,
"metadata": {
"id": "102gYU-5jRLD"
},
"outputs": [],
"source": [
"import opendatasets as od \n",
"import jovian \n",
"\n",
"import os \n",
"import numpy as np\n",
"import pandas as pd\n",
"import matplotlib.pyplot as plt \n",
"import sklearn \n",
"import seaborn as sns \n",
"\n",
"from sklearn.model_selection import train_test_split\n",
"from sklearn.impute import SimpleImputer\n",
"from sklearn.preprocessing import OneHotEncoder, MinMaxScaler\n",
"from imblearn.over_sampling import SMOTE\n",
"from sklearn.metrics import accuracy_score, classification_report, confusion_matrix\n",
"\n",
"from sklearn.linear_model import LogisticRegression\n",
"from sklearn.ensemble import RandomForestClassifier\n",
"\n",
"%matplotlib inline\n",
"sns.set()"
]
},
{
"cell_type": "markdown",
"metadata": {},
"source": [
"## Download the dataset\n",
"Using `opendatasets` library to download the dataset from kaggle."
]
},
{
"cell_type": "code",
"execution_count": 3,
"metadata": {
"colab": {
"base_uri": "https://localhost:8080/"
},
"id": "B_RVBMeijidA",
"outputId": "d1534b59-d08a-4b6e-d652-03d9f81f264b"
},
"outputs": [
{
"name": "stdout",
"output_type": "stream",
"text": [
"Please provide your Kaggle credentials to download this dataset. Learn more: http://bit.ly/kaggle-creds\n",
"Your Kaggle username: subhadeepmandal0506\n",
"Your Kaggle Key: Â·Â·Â·Â·Â·Â·Â·Â·\n",
"Downloading DontGetKicked.zip to ./DontGetKicked\n"
]
},
{
"name": "stderr",
"output_type": "stream",
"text": [
"100%|â–ˆâ–ˆâ–ˆâ–ˆâ–ˆâ–ˆâ–ˆâ–ˆâ–ˆâ–ˆ| 10.2M/10.2M [00:00<00:00, 42.2MB/s]\n"
]
},
{
"name": "stdout",
"output_type": "stream",
"text": [
"\n",
"Extracting archive ./DontGetKicked/DontGetKicked.zip to ./DontGetKicked\n"
]
}
],
"source": [
"od.download('https://www.kaggle.com/competitions/DontGetKicked/')"
]
},
{
"cell_type": "code",
"execution_count": 4,
"metadata": {
"colab": {
"base_uri": "https://localhost:8080/"
},
"id": "hU8twHYwjvhb",
"outputId": "79a372f7-c629-49da-e5d8-2dba4d90a64b"
},
"outputs": [
{
"data": {
"text/plain": [
"['training.zip',\n",
" 'training.csv',\n",
" 'test.csv',\n",
" 'Carvana_Data_Dictionary.txt',\n",
" 'test.zip',\n",
" 'example_entry.csv']"
]
},
"execution_count": 4,
"metadata": {},
"output_type": "execute_result"
}
],
"source": [
"os.listdir('DontGetKicked')"
]
},
{
"cell_type": "code",
"execution_count": 5,
"metadata": {
"id": "sgqnptJxkDLo"
},
"outputs": [],
"source": [
"DATA_PATH = 'DontGetKicked/'\n",
"TRAIN_DATA = DATA_PATH + 'training.csv'\n",
"TEST_DATA = DATA_PATH + 'test.csv'"
]
},
{
"cell_type": "code",
"execution_count": 6,
"metadata": {
"colab": {
"base_uri": "https://localhost:8080/",
"height": 403
},
"id": "kK9Jfntwj-Wc",
"outputId": "0a158eb2-8a49-41c7-8260-88bd5cc76eb7",
"scrolled": true
},
"outputs": [
{
"data": {
"text/html": [
"<div>\n",
"<style scoped>\n",
"    .dataframe tbody tr th:only-of-type {\n",
"        vertical-align: middle;\n",
"    }\n",
"\n",
"    .dataframe tbody tr th {\n",
"        vertical-align: top;\n",
"    }\n",
"\n",
"    .dataframe thead th {\n",
"        text-align: right;\n",
"    }\n",
"</style>\n",
"<table border=\"1\" class=\"dataframe\">\n",
"  <thead>\n",
"    <tr style=\"text-align: right;\">\n",
"      <th></th>\n",
"      <th>RefId</th>\n",
"      <th>IsBadBuy</th>\n",
"      <th>PurchDate</th>\n",
"      <th>Auction</th>\n",
"      <th>VehYear</th>\n",
"      <th>VehicleAge</th>\n",
"      <th>Make</th>\n",
"      <th>Model</th>\n",
"      <th>Trim</th>\n",
"      <th>SubModel</th>\n",
"      <th>...</th>\n",
"      <th>MMRCurrentRetailAveragePrice</th>\n",
"      <th>MMRCurrentRetailCleanPrice</th>\n",
"      <th>PRIMEUNIT</th>\n",
"      <th>AUCGUART</th>\n",
"      <th>BYRNO</th>\n",
"      <th>VNZIP1</th>\n",
"      <th>VNST</th>\n",
"      <th>VehBCost</th>\n",
"      <th>IsOnlineSale</th>\n",
"      <th>WarrantyCost</th>\n",
"    </tr>\n",
"  </thead>\n",
"  <tbody>\n",
"    <tr>\n",
"      <th>0</th>\n",
"      <td>1</td>\n",
"      <td>0</td>\n",
"      <td>12/7/2009</td>\n",
"      <td>ADESA</td>\n",
"      <td>2006</td>\n",
"      <td>3</td>\n",
"      <td>MAZDA</td>\n",
"      <td>MAZDA3</td>\n",
"      <td>i</td>\n",
"      <td>4D SEDAN I</td>\n",
"      <td>...</td>\n",
"      <td>11597.0</td>\n",
"      <td>12409.0</td>\n",
"      <td>NaN</td>\n",
"      <td>NaN</td>\n",
"      <td>21973</td>\n",
"      <td>33619</td>\n",
"      <td>FL</td>\n",
"      <td>7100.0</td>\n",
"      <td>0</td>\n",
"      <td>1113</td>\n",
"    </tr>\n",
"    <tr>\n",
"      <th>1</th>\n",
"      <td>2</td>\n",
"      <td>0</td>\n",
"      <td>12/7/2009</td>\n",
"      <td>ADESA</td>\n",
"      <td>2004</td>\n",
"      <td>5</td>\n",
"      <td>DODGE</td>\n",
"      <td>1500 RAM PICKUP 2WD</td>\n",
"      <td>ST</td>\n",
"      <td>QUAD CAB 4.7L SLT</td>\n",
"      <td>...</td>\n",
"      <td>11374.0</td>\n",
"      <td>12791.0</td>\n",
"      <td>NaN</td>\n",
"      <td>NaN</td>\n",
"      <td>19638</td>\n",
"      <td>33619</td>\n",
"      <td>FL</td>\n",
"      <td>7600.0</td>\n",
"      <td>0</td>\n",
"      <td>1053</td>\n",
"    </tr>\n",
"    <tr>\n",
"      <th>2</th>\n",
"      <td>3</td>\n",
"      <td>0</td>\n",
"      <td>12/7/2009</td>\n",
"      <td>ADESA</td>\n",
"      <td>2005</td>\n",
"      <td>4</td>\n",
"      <td>DODGE</td>\n",
"      <td>STRATUS V6</td>\n",
"      <td>SXT</td>\n",
"      <td>4D SEDAN SXT FFV</td>\n",
"      <td>...</td>\n",
"      <td>7146.0</td>\n",
"      <td>8702.0</td>\n",
"      <td>NaN</td>\n",
"      <td>NaN</td>\n",
"      <td>19638</td>\n",
"      <td>33619</td>\n",
"      <td>FL</td>\n",
"      <td>4900.0</td>\n",
"      <td>0</td>\n",
"      <td>1389</td>\n",
"    </tr>\n",
"    <tr>\n",
"      <th>3</th>\n",
"      <td>4</td>\n",
"      <td>0</td>\n",
"      <td>12/7/2009</td>\n",
"      <td>ADESA</td>\n",
"      <td>2004</td>\n",
"      <td>5</td>\n",
"      <td>DODGE</td>\n",
"      <td>NEON</td>\n",
"      <td>SXT</td>\n",
"      <td>4D SEDAN</td>\n",
"      <td>...</td>\n",
"      <td>4375.0</td>\n",
"      <td>5518.0</td>\n",
"      <td>NaN</td>\n",
"      <td>NaN</td>\n",
"      <td>19638</td>\n",
"      <td>33619</td>\n",
"      <td>FL</td>\n",
"      <td>4100.0</td>\n",
"      <td>0</td>\n",
"      <td>630</td>\n",
"    </tr>\n",
"    <tr>\n",
"      <th>4</th>\n",
"      <td>5</td>\n",
"      <td>0</td>\n",
"      <td>12/7/2009</td>\n",
"      <td>ADESA</td>\n",
"      <td>2005</td>\n",
"      <td>4</td>\n",
"      <td>FORD</td>\n",
"      <td>FOCUS</td>\n",
"      <td>ZX3</td>\n",
"      <td>2D COUPE ZX3</td>\n",
"      <td>...</td>\n",
"      <td>6739.0</td>\n",
"      <td>7911.0</td>\n",
"      <td>NaN</td>\n",
"      <td>NaN</td>\n",
"      <td>19638</td>\n",
"      <td>33619</td>\n",
"      <td>FL</td>\n",
"      <td>4000.0</td>\n",
"      <td>0</td>\n",
"      <td>1020</td>\n",
"    </tr>\n",
"    <tr>\n",
"      <th>...</th>\n",
"      <td>...</td>\n",
"      <td>...</td>\n",
"      <td>...</td>\n",
"      <td>...</td>\n",
"      <td>...</td>\n",
"      <td>...</td>\n",
"      <td>...</td>\n",
"      <td>...</td>\n",
"      <td>...</td>\n",
"      <td>...</td>\n",
"      <td>...</td>\n",
"      <td>...</td>\n",
"      <td>...</td>\n",
"      <td>...</td>\n",
"      <td>...</td>\n",
"      <td>...</td>\n",
"      <td>...</td>\n",
"      <td>...</td>\n",
"      <td>...</td>\n",
"      <td>...</td>\n",
"      <td>...</td>\n",
"    </tr>\n",
"    <tr>\n",
"      <th>72978</th>\n",
"      <td>73010</td>\n",
"      <td>1</td>\n",
"      <td>12/2/2009</td>\n",
"      <td>ADESA</td>\n",
"      <td>2001</td>\n",
"      <td>8</td>\n",
"      <td>MERCURY</td>\n",
"      <td>SABLE</td>\n",
"      <td>GS</td>\n",
"      <td>4D SEDAN GS</td>\n",
"      <td>...</td>\n",
"      <td>4836.0</td>\n",
"      <td>5937.0</td>\n",
"      <td>NaN</td>\n",
"      <td>NaN</td>\n",
"      <td>18111</td>\n",
"      <td>30212</td>\n",
"      <td>GA</td>\n",
"      <td>4200.0</td>\n",
"      <td>0</td>\n",
"      <td>993</td>\n",
"    </tr>\n",
"    <tr>\n",
"      <th>72979</th>\n",
"      <td>73011</td>\n",
"      <td>0</td>\n",
"      <td>12/2/2009</td>\n",
"      <td>ADESA</td>\n",
"      <td>2007</td>\n",
"      <td>2</td>\n",
"      <td>CHEVROLET</td>\n",
"      <td>MALIBU 4C</td>\n",
"      <td>LS</td>\n",
"      <td>4D SEDAN LS</td>\n",
"      <td>...</td>\n",
"      <td>10151.0</td>\n",
"      <td>11652.0</td>\n",
"      <td>NaN</td>\n",
"      <td>NaN</td>\n",
"      <td>18881</td>\n",
"      <td>30212</td>\n",
"      <td>GA</td>\n",
"      <td>6200.0</td>\n",
"      <td>0</td>\n",
"      <td>1038</td>\n",
"    </tr>\n",
"    <tr>\n",
"      <th>72980</th>\n",
"      <td>73012</td>\n",
"      <td>0</td>\n",
"      <td>12/2/2009</td>\n",
"      <td>ADESA</td>\n",
"      <td>2005</td>\n",
"      <td>4</td>\n",
"      <td>JEEP</td>\n",
"      <td>GRAND CHEROKEE 2WD V</td>\n",
"      <td>Lar</td>\n",
"      <td>4D WAGON LAREDO</td>\n",
"      <td>...</td>\n",
"      <td>11831.0</td>\n",
"      <td>14402.0</td>\n",
"      <td>NaN</td>\n",
"      <td>NaN</td>\n",
"      <td>18111</td>\n",
"      <td>30212</td>\n",
"      <td>GA</td>\n",
"      <td>8200.0</td>\n",
"      <td>0</td>\n",
"      <td>1893</td>\n",
"    </tr>\n",
"    <tr>\n",
"      <th>72981</th>\n",
"      <td>73013</td>\n",
"      <td>0</td>\n",
"      <td>12/2/2009</td>\n",
"      <td>ADESA</td>\n",
"      <td>2006</td>\n",
"      <td>3</td>\n",
"      <td>CHEVROLET</td>\n",
"      <td>IMPALA</td>\n",
"      <td>LS</td>\n",
"      <td>4D SEDAN LS</td>\n",
"      <td>...</td>\n",
"      <td>10099.0</td>\n",
"      <td>11228.0</td>\n",
"      <td>NaN</td>\n",
"      <td>NaN</td>\n",
"      <td>18881</td>\n",
"      <td>30212</td>\n",
"      <td>GA</td>\n",
"      <td>7000.0</td>\n",
"      <td>0</td>\n",
"      <td>1974</td>\n",
"    </tr>\n",
"    <tr>\n",
"      <th>72982</th>\n",
"      <td>73014</td>\n",
"      <td>0</td>\n",
"      <td>12/2/2009</td>\n",
"      <td>ADESA</td>\n",
"      <td>2006</td>\n",
"      <td>3</td>\n",
"      <td>MAZDA</td>\n",
"      <td>MAZDA6</td>\n",
"      <td>s</td>\n",
"      <td>4D SEDAN S</td>\n",
"      <td>...</td>\n",
"      <td>11954.0</td>\n",
"      <td>13246.0</td>\n",
"      <td>NaN</td>\n",
"      <td>NaN</td>\n",
"      <td>18111</td>\n",
"      <td>30212</td>\n",
"      <td>GA</td>\n",
"      <td>8000.0</td>\n",
"      <td>0</td>\n",
"      <td>1313</td>\n",
"    </tr>\n",
"  </tbody>\n",
"</table>\n",
"<p>72983 rows Ã— 34 columns</p>\n",
"</div>"
],
"text/plain": [
"       RefId  IsBadBuy  PurchDate Auction  VehYear  VehicleAge       Make  \\\n",
"0          1         0  12/7/2009   ADESA     2006           3      MAZDA   \n",
"1          2         0  12/7/2009   ADESA     2004           5      DODGE   \n",
"2          3         0  12/7/2009   ADESA     2005           4      DODGE   \n",
"3          4         0  12/7/2009   ADESA     2004           5      DODGE   \n",
"4          5         0  12/7/2009   ADESA     2005           4       FORD   \n",
"...      ...       ...        ...     ...      ...         ...        ...   \n",
"72978  73010         1  12/2/2009   ADESA     2001           8    MERCURY   \n",
"72979  73011         0  12/2/2009   ADESA     2007           2  CHEVROLET   \n",
"72980  73012         0  12/2/2009   ADESA     2005           4       JEEP   \n",
"72981  73013         0  12/2/2009   ADESA     2006           3  CHEVROLET   \n",
"72982  73014         0  12/2/2009   ADESA     2006           3      MAZDA   \n",
"\n",
"                      Model Trim           SubModel  ...  \\\n",
"0                    MAZDA3    i         4D SEDAN I  ...   \n",
"1       1500 RAM PICKUP 2WD   ST  QUAD CAB 4.7L SLT  ...   \n",
"2                STRATUS V6  SXT   4D SEDAN SXT FFV  ...   \n",
"3                      NEON  SXT           4D SEDAN  ...   \n",
"4                     FOCUS  ZX3       2D COUPE ZX3  ...   \n",
"...                     ...  ...                ...  ...   \n",
"72978                 SABLE   GS        4D SEDAN GS  ...   \n",
"72979             MALIBU 4C   LS        4D SEDAN LS  ...   \n",
"72980  GRAND CHEROKEE 2WD V  Lar    4D WAGON LAREDO  ...   \n",
"72981                IMPALA   LS        4D SEDAN LS  ...   \n",
"72982                MAZDA6    s         4D SEDAN S  ...   \n",
"\n",
"      MMRCurrentRetailAveragePrice MMRCurrentRetailCleanPrice  PRIMEUNIT  \\\n",
"0                          11597.0                    12409.0        NaN   \n",
"1                          11374.0                    12791.0        NaN   \n",
"2                           7146.0                     8702.0        NaN   \n",
"3                           4375.0                     5518.0        NaN   \n",
"4                           6739.0                     7911.0        NaN   \n",
"...                            ...                        ...        ...   \n",
"72978                       4836.0                     5937.0        NaN   \n",
"72979                      10151.0                    11652.0        NaN   \n",
"72980                      11831.0                    14402.0        NaN   \n",
"72981                      10099.0                    11228.0        NaN   \n",
"72982                      11954.0                    13246.0        NaN   \n",
"\n",
"      AUCGUART  BYRNO VNZIP1 VNST VehBCost  IsOnlineSale  WarrantyCost  \n",
"0          NaN  21973  33619   FL   7100.0             0          1113  \n",
"1          NaN  19638  33619   FL   7600.0             0          1053  \n",
"2          NaN  19638  33619   FL   4900.0             0          1389  \n",
"3          NaN  19638  33619   FL   4100.0             0           630  \n",
"4          NaN  19638  33619   FL   4000.0             0          1020  \n",
"...        ...    ...    ...  ...      ...           ...           ...  \n",
"72978      NaN  18111  30212   GA   4200.0             0           993  \n",
"72979      NaN  18881  30212   GA   6200.0             0          1038  \n",
"72980      NaN  18111  30212   GA   8200.0             0          1893  \n",
"72981      NaN  18881  30212   GA   7000.0             0          1974  \n",
"72982      NaN  18111  30212   GA   8000.0             0          1313  \n",
"\n",
"[72983 rows x 34 columns]"
]
},
"execution_count": 6,
"metadata": {},
"output_type": "execute_result"
}
],
"source": [
"train_data = pd.read_csv(TRAIN_DATA)\n",
"test_data = pd.read_csv(TEST_DATA)\n",
"train_data"
]
},
{
"cell_type": "code",
"execution_count": 7,
"metadata": {},
"outputs": [
{
"data": {
"text/html": [
"<div>\n",
"<style scoped>\n",
"    .dataframe tbody tr th:only-of-type {\n",
"        vertical-align: middle;\n",
"    }\n",
"\n",
"    .dataframe tbody tr th {\n",
"        vertical-align: top;\n",
"    }\n",
"\n",
"    .dataframe thead th {\n",
"        text-align: right;\n",
"    }\n",
"</style>\n",
"<table border=\"1\" class=\"dataframe\">\n",
"  <thead>\n",
"    <tr style=\"text-align: right;\">\n",
"      <th></th>\n",
"      <th>RefId</th>\n",
"      <th>PurchDate</th>\n",
"      <th>Auction</th>\n",
"      <th>VehYear</th>\n",
"      <th>VehicleAge</th>\n",
"      <th>Make</th>\n",
"      <th>Model</th>\n",
"      <th>Trim</th>\n",
"      <th>SubModel</th>\n",
"      <th>Color</th>\n",
"      <th>...</th>\n",
"      <th>MMRCurrentRetailAveragePrice</th>\n",
"      <th>MMRCurrentRetailCleanPrice</th>\n",
"      <th>PRIMEUNIT</th>\n",
"      <th>AUCGUART</th>\n",
"      <th>BYRNO</th>\n",
"      <th>VNZIP1</th>\n",
"      <th>VNST</th>\n",
"      <th>VehBCost</th>\n",
"      <th>IsOnlineSale</th>\n",
"      <th>WarrantyCost</th>\n",
"    </tr>\n",
"  </thead>\n",
"  <tbody>\n",
"    <tr>\n",
"      <th>0</th>\n",
"      <td>73015</td>\n",
"      <td>12/2/2009</td>\n",
"      <td>ADESA</td>\n",
"      <td>2005</td>\n",
"      <td>4</td>\n",
"      <td>PONTIAC</td>\n",
"      <td>GRAND PRIX</td>\n",
"      <td>Bas</td>\n",
"      <td>4D SEDAN</td>\n",
"      <td>SILVER</td>\n",
"      <td>...</td>\n",
"      <td>8557.0</td>\n",
"      <td>9752.0</td>\n",
"      <td>NaN</td>\n",
"      <td>NaN</td>\n",
"      <td>18881</td>\n",
"      <td>30212</td>\n",
"      <td>GA</td>\n",
"      <td>6500.0</td>\n",
"      <td>0</td>\n",
"      <td>2152</td>\n",
"    </tr>\n",
"    <tr>\n",
"      <th>1</th>\n",
"      <td>73016</td>\n",
"      <td>12/2/2009</td>\n",
"      <td>ADESA</td>\n",
"      <td>2005</td>\n",
"      <td>4</td>\n",
"      <td>CHEVROLET</td>\n",
"      <td>MALIBU V6</td>\n",
"      <td>LS</td>\n",
"      <td>4D SEDAN LS</td>\n",
"      <td>SILVER</td>\n",
"      <td>...</td>\n",
"      <td>7562.0</td>\n",
"      <td>9296.0</td>\n",
"      <td>NaN</td>\n",
"      <td>NaN</td>\n",
"      <td>18111</td>\n",
"      <td>30212</td>\n",
"      <td>GA</td>\n",
"      <td>6300.0</td>\n",
"      <td>0</td>\n",
"      <td>1118</td>\n",
"    </tr>\n",
"    <tr>\n",
"      <th>2</th>\n",
"      <td>73017</td>\n",
"      <td>12/2/2009</td>\n",
"      <td>ADESA</td>\n",
"      <td>2006</td>\n",
"      <td>3</td>\n",
"      <td>DODGE</td>\n",
"      <td>DURANGO 2WD V8</td>\n",
"      <td>Adv</td>\n",
"      <td>4D SUV 4.7L ADVENTURER</td>\n",
"      <td>SILVER</td>\n",
"      <td>...</td>\n",
"      <td>15340.0</td>\n",
"      <td>16512.0</td>\n",
"      <td>NaN</td>\n",
"      <td>NaN</td>\n",
"      <td>18111</td>\n",
"      <td>30212</td>\n",
"      <td>GA</td>\n",
"      <td>9700.0</td>\n",
"      <td>0</td>\n",
"      <td>1215</td>\n",
"    </tr>\n",
"    <tr>\n",
"      <th>3</th>\n",
"      <td>73018</td>\n",
"      <td>12/2/2009</td>\n",
"      <td>ADESA</td>\n",
"      <td>2002</td>\n",
"      <td>7</td>\n",
"      <td>SATURN</td>\n",
"      <td>L SERIES</td>\n",
"      <td>L20</td>\n",
"      <td>4D SEDAN L200</td>\n",
"      <td>GOLD</td>\n",
"      <td>...</td>\n",
"      <td>5725.0</td>\n",
"      <td>6398.0</td>\n",
"      <td>NaN</td>\n",
"      <td>NaN</td>\n",
"      <td>18881</td>\n",
"      <td>30212</td>\n",
"      <td>GA</td>\n",
"      <td>4150.0</td>\n",
"      <td>0</td>\n",
"      <td>1933</td>\n",
"    </tr>\n",
"    <tr>\n",
"      <th>4</th>\n",
"      <td>73019</td>\n",
"      <td>12/2/2009</td>\n",
"      <td>ADESA</td>\n",
"      <td>2007</td>\n",
"      <td>2</td>\n",
"      <td>HYUNDAI</td>\n",
"      <td>ACCENT</td>\n",
"      <td>GS</td>\n",
"      <td>2D COUPE GS</td>\n",
"      <td>BLUE</td>\n",
"      <td>...</td>\n",
"      <td>5914.0</td>\n",
"      <td>7350.0</td>\n",
"      <td>NaN</td>\n",
"      <td>NaN</td>\n",
"      <td>18111</td>\n",
"      <td>30212</td>\n",
"      <td>GA</td>\n",
"      <td>4100.0</td>\n",
"      <td>0</td>\n",
"      <td>920</td>\n",
"    </tr>\n",
"    <tr>\n",
"      <th>...</th>\n",
"      <td>...</td>\n",
"      <td>...</td>\n",
"      <td>...</td>\n",
"      <td>...</td>\n",
"      <td>...</td>\n",
"      <td>...</td>\n",
"      <td>...</td>\n",
"      <td>...</td>\n",
"      <td>...</td>\n",
"      <td>...</td>\n",
"      <td>...</td>\n",
"      <td>...</td>\n",
"      <td>...</td>\n",
"      <td>...</td>\n",
"      <td>...</td>\n",
"      <td>...</td>\n",
"      <td>...</td>\n",
"      <td>...</td>\n",
"      <td>...</td>\n",
"      <td>...</td>\n",
"      <td>...</td>\n",
"    </tr>\n",
"    <tr>\n",
"      <th>48702</th>\n",
"      <td>121742</td>\n",
"      <td>11/17/2010</td>\n",
"      <td>MANHEIM</td>\n",
"      <td>2005</td>\n",
"      <td>5</td>\n",
"      <td>FORD</td>\n",
"      <td>FIVE HUNDRED</td>\n",
"      <td>SEL</td>\n",
"      <td>4D SEDAN SEL</td>\n",
"      <td>BLACK</td>\n",
"      <td>...</td>\n",
"      <td>9764.0</td>\n",
"      <td>11395.0</td>\n",
"      <td>NaN</td>\n",
"      <td>NaN</td>\n",
"      <td>20928</td>\n",
"      <td>33411</td>\n",
"      <td>FL</td>\n",
"      <td>7955.0</td>\n",
"      <td>0</td>\n",
"      <td>1633</td>\n",
"    </tr>\n",
"    <tr>\n",
"      <th>48703</th>\n",
"      <td>121743</td>\n",
"      <td>11/17/2010</td>\n",
"      <td>MANHEIM</td>\n",
"      <td>2007</td>\n",
"      <td>3</td>\n",
"      <td>TOYOTA</td>\n",
"      <td>COROLLA</td>\n",
"      <td>CE</td>\n",
"      <td>4D SEDAN CE</td>\n",
"      <td>GREEN</td>\n",
"      <td>...</td>\n",
"      <td>10283.0</td>\n",
"      <td>11565.0</td>\n",
"      <td>NaN</td>\n",
"      <td>NaN</td>\n",
"      <td>20928</td>\n",
"      <td>33411</td>\n",
"      <td>FL</td>\n",
"      <td>7035.0</td>\n",
"      <td>0</td>\n",
"      <td>594</td>\n",
"    </tr>\n",
"    <tr>\n",
"      <th>48704</th>\n",
"      <td>121744</td>\n",
"      <td>11/17/2010</td>\n",
"      <td>MANHEIM</td>\n",
"      <td>2006</td>\n",
"      <td>4</td>\n",
"      <td>KIA</td>\n",
"      <td>SPECTRA</td>\n",
"      <td>EX</td>\n",
"      <td>4D SEDAN EX</td>\n",
"      <td>BLACK</td>\n",
"      <td>...</td>\n",
"      <td>7871.0</td>\n",
"      <td>9490.0</td>\n",
"      <td>NO</td>\n",
"      <td>GREEN</td>\n",
"      <td>20928</td>\n",
"      <td>33411</td>\n",
"      <td>FL</td>\n",
"      <td>6335.0</td>\n",
"      <td>0</td>\n",
"      <td>594</td>\n",
"    </tr>\n",
"    <tr>\n",
"      <th>48705</th>\n",
"      <td>121745</td>\n",
"      <td>11/17/2010</td>\n",
"      <td>MANHEIM</td>\n",
"      <td>2005</td>\n",
"      <td>5</td>\n",
"      <td>MAZDA</td>\n",
"      <td>MAZDA3</td>\n",
"      <td>s</td>\n",
"      <td>4D SEDAN GT</td>\n",
"      <td>SILVER</td>\n",
"      <td>...</td>\n",
"      <td>8576.0</td>\n",
"      <td>9937.0</td>\n",
"      <td>NO</td>\n",
"      <td>GREEN</td>\n",
"      <td>20928</td>\n",
"      <td>33411</td>\n",
"      <td>FL</td>\n",
"      <td>8055.0</td>\n",
"      <td>0</td>\n",
"      <td>1038</td>\n",
"    </tr>\n",
"    <tr>\n",
"      <th>48706</th>\n",
"      <td>121746</td>\n",
"      <td>11/17/2010</td>\n",
"      <td>MANHEIM</td>\n",
"      <td>2003</td>\n",
"      <td>7</td>\n",
"      <td>BUICK</td>\n",
"      <td>RENDEZVOUS AWD</td>\n",
"      <td>CX</td>\n",
"      <td>4D SUV CX</td>\n",
"      <td>GOLD</td>\n",
"      <td>...</td>\n",
"      <td>8266.0</td>\n",
"      <td>9388.0</td>\n",
"      <td>NO</td>\n",
"      <td>GREEN</td>\n",
"      <td>20928</td>\n",
"      <td>33411</td>\n",
"      <td>FL</td>\n",
"      <td>7755.0</td>\n",
"      <td>0</td>\n",
"      <td>5392</td>\n",
"    </tr>\n",
"  </tbody>\n",
"</table>\n",
"<p>48707 rows Ã— 33 columns</p>\n",
"</div>"
],
"text/plain": [
"        RefId   PurchDate  Auction  VehYear  VehicleAge       Make  \\\n",
"0       73015   12/2/2009    ADESA     2005           4    PONTIAC   \n",
"1       73016   12/2/2009    ADESA     2005           4  CHEVROLET   \n",
"2       73017   12/2/2009    ADESA     2006           3      DODGE   \n",
"3       73018   12/2/2009    ADESA     2002           7     SATURN   \n",
"4       73019   12/2/2009    ADESA     2007           2    HYUNDAI   \n",
"...       ...         ...      ...      ...         ...        ...   \n",
"48702  121742  11/17/2010  MANHEIM     2005           5       FORD   \n",
"48703  121743  11/17/2010  MANHEIM     2007           3     TOYOTA   \n",
"48704  121744  11/17/2010  MANHEIM     2006           4        KIA   \n",
"48705  121745  11/17/2010  MANHEIM     2005           5      MAZDA   \n",
"48706  121746  11/17/2010  MANHEIM     2003           7      BUICK   \n",
"\n",
"                Model Trim                SubModel   Color  ...  \\\n",
"0          GRAND PRIX  Bas                4D SEDAN  SILVER  ...   \n",
"1           MALIBU V6   LS             4D SEDAN LS  SILVER  ...   \n",
"2      DURANGO 2WD V8  Adv  4D SUV 4.7L ADVENTURER  SILVER  ...   \n",
"3            L SERIES  L20           4D SEDAN L200    GOLD  ...   \n",
"4              ACCENT   GS             2D COUPE GS    BLUE  ...   \n",
"...               ...  ...                     ...     ...  ...   \n",
"48702    FIVE HUNDRED  SEL            4D SEDAN SEL   BLACK  ...   \n",
"48703         COROLLA   CE             4D SEDAN CE   GREEN  ...   \n",
"48704         SPECTRA   EX             4D SEDAN EX   BLACK  ...   \n",
"48705          MAZDA3    s             4D SEDAN GT  SILVER  ...   \n",
"48706  RENDEZVOUS AWD   CX               4D SUV CX    GOLD  ...   \n",
"\n",
"      MMRCurrentRetailAveragePrice  MMRCurrentRetailCleanPrice PRIMEUNIT  \\\n",
"0                           8557.0                      9752.0       NaN   \n",
"1                           7562.0                      9296.0       NaN   \n",
"2                          15340.0                     16512.0       NaN   \n",
"3                           5725.0                      6398.0       NaN   \n",
"4                           5914.0                      7350.0       NaN   \n",
"...                            ...                         ...       ...   \n",
"48702                       9764.0                     11395.0       NaN   \n",
"48703                      10283.0                     11565.0       NaN   \n",
"48704                       7871.0                      9490.0        NO   \n",
"48705                       8576.0                      9937.0        NO   \n",
"48706                       8266.0                      9388.0        NO   \n",
"\n",
"       AUCGUART  BYRNO VNZIP1 VNST  VehBCost  IsOnlineSale  WarrantyCost  \n",
"0           NaN  18881  30212   GA    6500.0             0          2152  \n",
"1           NaN  18111  30212   GA    6300.0             0          1118  \n",
"2           NaN  18111  30212   GA    9700.0             0          1215  \n",
"3           NaN  18881  30212   GA    4150.0             0          1933  \n",
"4           NaN  18111  30212   GA    4100.0             0           920  \n",
"...         ...    ...    ...  ...       ...           ...           ...  \n",
"48702       NaN  20928  33411   FL    7955.0             0          1633  \n",
"48703       NaN  20928  33411   FL    7035.0             0           594  \n",
"48704     GREEN  20928  33411   FL    6335.0             0           594  \n",
"48705     GREEN  20928  33411   FL    8055.0             0          1038  \n",
"48706     GREEN  20928  33411   FL    7755.0             0          5392  \n",
"\n",
"[48707 rows x 33 columns]"
]
},
"execution_count": 7,
"metadata": {},
"output_type": "execute_result"
}
],
"source": [
"test_data"
]
},
{
"cell_type": "markdown",
"metadata": {},
"source": [
"## Dataset columns summary"
]
},
{
"cell_type": "markdown",
"metadata": {
"id": "pCA5g6EnnCSk"
},
"source": [
"||Field Name\t\t\t\t             |Definition|\n",
"|---|---|---|\n",
"|1|RefID\t\t\t\t                 |Unique (sequential) number assigned to vehicles|\n",
"|2|IsBadBuy\t\t\t\t             |Identifies if the kicked vehicle was an avoidable purchase |\n",
"|3|PurchDate\t\t\t\t             |The Date the vehicle was Purchased at Auction|\n",
"|4|Auction\t\t\t\t\t         |Auction provider at which the  vehicle was purchased|\n",
"|5|VehYear\t\t\t\t\t         |The manufacturer's year of the vehicle|\n",
"|6|VehicleAge\t\t\t\t             |The Years elapsed since the manufacturer's year|\n",
"|7|Make\t\t\t\t\t             |Vehicle Manufacturer |\n",
"|8|Model\t\t\t\t\t             |Vehicle Model|\n",
"|9|Trim\t\t\t\t\t             |Vehicle Trim Level|\n",
"|10|SubModel\t\t\t\t             |Vehicle Submodel|\n",
"|11|Color\t\t\t\t\t             |Vehicle Color|\n",
"|12|Transmission\t\t\t\t         |Vehicles transmission type (Automatic, Manual)|\n",
"|13|WheelTypeID\t\t\t\t         |The type id of the vehicle wheel|\n",
"|14|WheelType\t\t\t\t             |The vehicle wheel type description (Alloy, Covers)|\n",
"|15|VehOdo\t\t\t\t\t             |The vehicles odometer reading|\n",
"|16|Nationality\t\t\t\t         |The Manufacturer's country|\n",
"|17|Size\t\t\t\t\t             |The size category of the vehicle (Compact, SUV, etc.)|\n",
"|18|TopThreeAmericanName\t\t\t     |Identifies if the manufacturer is one of the top three American manufacturers|\n",
"|19|MMRAcquisitionAuctionAveragePrice\t |Acquisition price for this vehicle in average condition at time of purchase|\t\n",
"|20|MMRAcquisitionAuctionCleanPrice\t |Acquisition price for this vehicle in the above Average condition at time of purchase|\n",
"|21|MMRAcquisitionRetailAveragePrice\t |Acquisition price for this vehicle in the retail market in average condition at time of purchase|\n",
"|22|MMRAcquisitonRetailCleanPrice\t\t |Acquisition price for this vehicle in the retail market in above average condition at time of purchase|\n",
"|23|MMRCurrentAuctionAveragePrice\t\t |Acquisition price for this vehicle in average condition as of current day\t|\n",
"|24|MMRCurrentAuctionCleanPrice\t\t |Acquisition price for this vehicle in the above condition as of current day|\n",
"|25|MMRCurrentRetailAveragePrice\t\t |Acquisition price for this vehicle in the retail market in average condition as of current day|\n",
"|26|MMRCurrentRetailCleanPrice\t\t     |Acquisition price for this vehicle in the retail market in above average condition as of current day|\n",
"|27|PRIMEUNIT\t\t\t\t             |Identifies if the vehicle would have a higher demand than a standard purchase|\n",
"|28|AcquisitionType\t\t\t\t     |Identifies how the vehicle was aquired (Auction buy, trade in, etc)|\n",
"|29|AUCGUART\t\t\t\t             |The level guarntee provided by auction for the vehicle (Green light - Guaranteed/arbitratable, Yellow Light - caution/issue, red light - sold as is)|\n",
"|30|KickDate\t\t\t\t             |Date the vehicle was kicked back to the auction|\n",
"|31|BYRNO\t\t\t\t\t             |Unique number assigned to the buyer that purchased the vehicle|\n",
"|32|VNZIP                               |Zipcode where the car was purchased|\n",
"|33|VNST                                |State where the the car was purchased|\n",
"|34|VehBCost\t\t\t\t             |Acquisition cost paid for the vehicle at time of purchase|\n",
"|35|IsOnlineSale\t\t\t\t         |Identifies if the vehicle was originally purchased online|\n",
"|36|WarrantyCost                        |Warranty price (term=36month  and millage=36K)"
]
},
{
"cell_type": "markdown",
"metadata": {},
"source": [
"## Data Cleaning"
]
},
{
"cell_type": "code",
"execution_count": 8,
"metadata": {
"colab": {
"base_uri": "https://localhost:8080/"
},
"id": "vabZLmC2lCYx",
"outputId": "6989f4de-9282-4285-d0bc-8eb17f7c588a",
"scrolled": true
},
"outputs": [
{
"name": "stdout",
"output_type": "stream",
"text": [
"<class 'pandas.core.frame.DataFrame'>\n",
"RangeIndex: 72983 entries, 0 to 72982\n",
"Data columns (total 34 columns):\n",
" #   Column                             Non-Null Count  Dtype  \n",
"---  ------                             --------------  -----  \n",
" 0   RefId                              72983 non-null  int64  \n",
" 1   IsBadBuy                           72983 non-null  int64  \n",
" 2   PurchDate                          72983 non-null  object \n",
" 3   Auction                            72983 non-null  object \n",
" 4   VehYear                            72983 non-null  int64  \n",
" 5   VehicleAge                         72983 non-null  int64  \n",
" 6   Make                               72983 non-null  object \n",
" 7   Model                              72983 non-null  object \n",
" 8   Trim                               70623 non-null  object \n",
" 9   SubModel                           72975 non-null  object \n",
" 10  Color                              72975 non-null  object \n",
" 11  Transmission                       72974 non-null  object \n",
" 12  WheelTypeID                        69814 non-null  float64\n",
" 13  WheelType                          69809 non-null  object \n",
" 14  VehOdo                             72983 non-null  int64  \n",
" 15  Nationality                        72978 non-null  object \n",
" 16  Size                               72978 non-null  object \n",
" 17  TopThreeAmericanName               72978 non-null  object \n",
" 18  MMRAcquisitionAuctionAveragePrice  72965 non-null  float64\n",
" 19  MMRAcquisitionAuctionCleanPrice    72965 non-null  float64\n",
" 20  MMRAcquisitionRetailAveragePrice   72965 non-null  float64\n",
" 21  MMRAcquisitonRetailCleanPrice      72965 non-null  float64\n",
" 22  MMRCurrentAuctionAveragePrice      72668 non-null  float64\n",
" 23  MMRCurrentAuctionCleanPrice        72668 non-null  float64\n",
" 24  MMRCurrentRetailAveragePrice       72668 non-null  float64\n",
" 25  MMRCurrentRetailCleanPrice         72668 non-null  float64\n",
" 26  PRIMEUNIT                          3419 non-null   object \n",
" 27  AUCGUART                           3419 non-null   object \n",
" 28  BYRNO                              72983 non-null  int64  \n",
" 29  VNZIP1                             72983 non-null  int64  \n",
" 30  VNST                               72983 non-null  object \n",
" 31  VehBCost                           72983 non-null  float64\n",
" 32  IsOnlineSale                       72983 non-null  int64  \n",
" 33  WarrantyCost                       72983 non-null  int64  \n",
"dtypes: float64(10), int64(9), object(15)\n",
"memory usage: 18.9+ MB\n"
]
}
],
"source": [
"train_data.info()"
]
},
{
"cell_type": "code",
"execution_count": 9,
"metadata": {
"colab": {
"base_uri": "https://localhost:8080/",
"height": 364
},
"id": "omrEOHh5mLat",
"outputId": "efbd16c4-6ee7-4d92-f976-34a5820b58db",
"scrolled": true
},
"outputs": [
{
"data": {
"text/html": [
"<div>\n",
"<style scoped>\n",
"    .dataframe tbody tr th:only-of-type {\n",
"        vertical-align: middle;\n",
"    }\n",
"\n",
"    .dataframe tbody tr th {\n",
"        vertical-align: top;\n",
"    }\n",
"\n",
"    .dataframe thead th {\n",
"        text-align: right;\n",
"    }\n",
"</style>\n",
"<table border=\"1\" class=\"dataframe\">\n",
"  <thead>\n",
"    <tr style=\"text-align: right;\">\n",
"      <th></th>\n",
"      <th>RefId</th>\n",
"      <th>IsBadBuy</th>\n",
"      <th>VehYear</th>\n",
"      <th>VehicleAge</th>\n",
"      <th>WheelTypeID</th>\n",
"      <th>VehOdo</th>\n",
"      <th>MMRAcquisitionAuctionAveragePrice</th>\n",
"      <th>MMRAcquisitionAuctionCleanPrice</th>\n",
"      <th>MMRAcquisitionRetailAveragePrice</th>\n",
"      <th>MMRAcquisitonRetailCleanPrice</th>\n",
"      <th>MMRCurrentAuctionAveragePrice</th>\n",
"      <th>MMRCurrentAuctionCleanPrice</th>\n",
"      <th>MMRCurrentRetailAveragePrice</th>\n",
"      <th>MMRCurrentRetailCleanPrice</th>\n",
"      <th>BYRNO</th>\n",
"      <th>VNZIP1</th>\n",
"      <th>VehBCost</th>\n",
"      <th>IsOnlineSale</th>\n",
"      <th>WarrantyCost</th>\n",
"    </tr>\n",
"  </thead>\n",
"  <tbody>\n",
"    <tr>\n",
"      <th>count</th>\n",
"      <td>72983.000000</td>\n",
"      <td>72983.000000</td>\n",
"      <td>72983.000000</td>\n",
"      <td>72983.000000</td>\n",
"      <td>69814.000000</td>\n",
"      <td>72983.000000</td>\n",
"      <td>72965.000000</td>\n",
"      <td>72965.000000</td>\n",
"      <td>72965.000000</td>\n",
"      <td>72965.000000</td>\n",
"      <td>72668.000000</td>\n",
"      <td>72668.000000</td>\n",
"      <td>72668.000000</td>\n",
"      <td>72668.000000</td>\n",
"      <td>72983.000000</td>\n",
"      <td>72983.000000</td>\n",
"      <td>72983.000000</td>\n",
"      <td>72983.000000</td>\n",
"      <td>72983.000000</td>\n",
"    </tr>\n",
"    <tr>\n",
"      <th>mean</th>\n",
"      <td>36511.428497</td>\n",
"      <td>0.122988</td>\n",
"      <td>2005.343052</td>\n",
"      <td>4.176644</td>\n",
"      <td>1.494299</td>\n",
"      <td>71499.995917</td>\n",
"      <td>6128.909217</td>\n",
"      <td>7373.636031</td>\n",
"      <td>8497.034332</td>\n",
"      <td>9850.928240</td>\n",
"      <td>6132.081287</td>\n",
"      <td>7390.681827</td>\n",
"      <td>8775.723331</td>\n",
"      <td>10145.385314</td>\n",
"      <td>26345.842155</td>\n",
"      <td>58043.059945</td>\n",
"      <td>6730.934326</td>\n",
"      <td>0.025280</td>\n",
"      <td>1276.580985</td>\n",
"    </tr>\n",
"    <tr>\n",
"      <th>std</th>\n",
"      <td>21077.241302</td>\n",
"      <td>0.328425</td>\n",
"      <td>1.731252</td>\n",
"      <td>1.712210</td>\n",
"      <td>0.521290</td>\n",
"      <td>14578.913128</td>\n",
"      <td>2461.992768</td>\n",
"      <td>2722.491986</td>\n",
"      <td>3156.285284</td>\n",
"      <td>3385.789541</td>\n",
"      <td>2434.567723</td>\n",
"      <td>2686.248852</td>\n",
"      <td>3090.702941</td>\n",
"      <td>3310.254351</td>\n",
"      <td>25717.351219</td>\n",
"      <td>26151.640415</td>\n",
"      <td>1767.846435</td>\n",
"      <td>0.156975</td>\n",
"      <td>598.846788</td>\n",
"    </tr>\n",
"    <tr>\n",
"      <th>min</th>\n",
"      <td>1.000000</td>\n",
"      <td>0.000000</td>\n",
"      <td>2001.000000</td>\n",
"      <td>0.000000</td>\n",
"      <td>0.000000</td>\n",
"      <td>4825.000000</td>\n",
"      <td>0.000000</td>\n",
"      <td>0.000000</td>\n",
"      <td>0.000000</td>\n",
"      <td>0.000000</td>\n",
"      <td>0.000000</td>\n",
"      <td>0.000000</td>\n",
"      <td>0.000000</td>\n",
"      <td>0.000000</td>\n",
"      <td>835.000000</td>\n",
"      <td>2764.000000</td>\n",
"      <td>1.000000</td>\n",
"      <td>0.000000</td>\n",
"      <td>462.000000</td>\n",
"    </tr>\n",
"    <tr>\n",
"      <th>25%</th>\n",
"      <td>18257.500000</td>\n",
"      <td>0.000000</td>\n",
"      <td>2004.000000</td>\n",
"      <td>3.000000</td>\n",
"      <td>1.000000</td>\n",
"      <td>61837.000000</td>\n",
"      <td>4273.000000</td>\n",
"      <td>5406.000000</td>\n",
"      <td>6280.000000</td>\n",
"      <td>7493.000000</td>\n",
"      <td>4275.000000</td>\n",
"      <td>5414.000000</td>\n",
"      <td>6536.000000</td>\n",
"      <td>7784.000000</td>\n",
"      <td>17212.000000</td>\n",
"      <td>32124.000000</td>\n",
"      <td>5435.000000</td>\n",
"      <td>0.000000</td>\n",
"      <td>837.000000</td>\n",
"    </tr>\n",
"    <tr>\n",
"      <th>50%</th>\n",
"      <td>36514.000000</td>\n",
"      <td>0.000000</td>\n",
"      <td>2005.000000</td>\n",
"      <td>4.000000</td>\n",
"      <td>1.000000</td>\n",
"      <td>73361.000000</td>\n",
"      <td>6097.000000</td>\n",
"      <td>7303.000000</td>\n",
"      <td>8444.000000</td>\n",
"      <td>9789.000000</td>\n",
"      <td>6062.000000</td>\n",
"      <td>7313.000000</td>\n",
"      <td>8729.000000</td>\n",
"      <td>10103.000000</td>\n",
"      <td>19662.000000</td>\n",
"      <td>73108.000000</td>\n",
"      <td>6700.000000</td>\n",
"      <td>0.000000</td>\n",
"      <td>1155.000000</td>\n",
"    </tr>\n",
"    <tr>\n",
"      <th>75%</th>\n",
"      <td>54764.500000</td>\n",
"      <td>0.000000</td>\n",
"      <td>2007.000000</td>\n",
"      <td>5.000000</td>\n",
"      <td>2.000000</td>\n",
"      <td>82436.000000</td>\n",
"      <td>7765.000000</td>\n",
"      <td>9021.000000</td>\n",
"      <td>10651.000000</td>\n",
"      <td>12088.000000</td>\n",
"      <td>7736.000000</td>\n",
"      <td>9013.000000</td>\n",
"      <td>10911.000000</td>\n",
"      <td>12309.000000</td>\n",
"      <td>22808.000000</td>\n",
"      <td>80022.000000</td>\n",
"      <td>7900.000000</td>\n",
"      <td>0.000000</td>\n",
"      <td>1623.000000</td>\n",
"    </tr>\n",
"    <tr>\n",
"      <th>max</th>\n",
"      <td>73014.000000</td>\n",
"      <td>1.000000</td>\n",
"      <td>2010.000000</td>\n",
"      <td>9.000000</td>\n",
"      <td>3.000000</td>\n",
"      <td>115717.000000</td>\n",
"      <td>35722.000000</td>\n",
"      <td>36859.000000</td>\n",
"      <td>39080.000000</td>\n",
"      <td>41482.000000</td>\n",
"      <td>35722.000000</td>\n",
"      <td>36859.000000</td>\n",
"      <td>39080.000000</td>\n",
"      <td>41062.000000</td>\n",
"      <td>99761.000000</td>\n",
"      <td>99224.000000</td>\n",
"      <td>45469.000000</td>\n",
"      <td>1.000000</td>\n",
"      <td>7498.000000</td>\n",
"    </tr>\n",
"  </tbody>\n",
"</table>\n",
"</div>"
],
"text/plain": [
"              RefId      IsBadBuy       VehYear    VehicleAge   WheelTypeID  \\\n",
"count  72983.000000  72983.000000  72983.000000  72983.000000  69814.000000   \n",
"mean   36511.428497      0.122988   2005.343052      4.176644      1.494299   \n",
"std    21077.241302      0.328425      1.731252      1.712210      0.521290   \n",
"min        1.000000      0.000000   2001.000000      0.000000      0.000000   \n",
"25%    18257.500000      0.000000   2004.000000      3.000000      1.000000   \n",
"50%    36514.000000      0.000000   2005.000000      4.000000      1.000000   \n",
"75%    54764.500000      0.000000   2007.000000      5.000000      2.000000   \n",
"max    73014.000000      1.000000   2010.000000      9.000000      3.000000   \n",
"\n",
"              VehOdo  MMRAcquisitionAuctionAveragePrice  \\\n",
"count   72983.000000                       72965.000000   \n",
"mean    71499.995917                        6128.909217   \n",
"std     14578.913128                        2461.992768   \n",
"min      4825.000000                           0.000000   \n",
"25%     61837.000000                        4273.000000   \n",
"50%     73361.000000                        6097.000000   \n",
"75%     82436.000000                        7765.000000   \n",
"max    115717.000000                       35722.000000   \n",
"\n",
"       MMRAcquisitionAuctionCleanPrice  MMRAcquisitionRetailAveragePrice  \\\n",
"count                     72965.000000                      72965.000000   \n",
"mean                       7373.636031                       8497.034332   \n",
"std                        2722.491986                       3156.285284   \n",
"min                           0.000000                          0.000000   \n",
"25%                        5406.000000                       6280.000000   \n",
"50%                        7303.000000                       8444.000000   \n",
"75%                        9021.000000                      10651.000000   \n",
"max                       36859.000000                      39080.000000   \n",
"\n",
"       MMRAcquisitonRetailCleanPrice  MMRCurrentAuctionAveragePrice  \\\n",
"count                   72965.000000                   72668.000000   \n",
"mean                     9850.928240                    6132.081287   \n",
"std                      3385.789541                    2434.567723   \n",
"min                         0.000000                       0.000000   \n",
"25%                      7493.000000                    4275.000000   \n",
"50%                      9789.000000                    6062.000000   \n",
"75%                     12088.000000                    7736.000000   \n",
"max                     41482.000000                   35722.000000   \n",
"\n",
"       MMRCurrentAuctionCleanPrice  MMRCurrentRetailAveragePrice  \\\n",
"count                 72668.000000                  72668.000000   \n",
"mean                   7390.681827                   8775.723331   \n",
"std                    2686.248852                   3090.702941   \n",
"min                       0.000000                      0.000000   \n",
"25%                    5414.000000                   6536.000000   \n",
"50%                    7313.000000                   8729.000000   \n",
"75%                    9013.000000                  10911.000000   \n",
"max                   36859.000000                  39080.000000   \n",
"\n",
"       MMRCurrentRetailCleanPrice         BYRNO        VNZIP1      VehBCost  \\\n",
"count                72668.000000  72983.000000  72983.000000  72983.000000   \n",
"mean                 10145.385314  26345.842155  58043.059945   6730.934326   \n",
"std                   3310.254351  25717.351219  26151.640415   1767.846435   \n",
"min                      0.000000    835.000000   2764.000000      1.000000   \n",
"25%                   7784.000000  17212.000000  32124.000000   5435.000000   \n",
"50%                  10103.000000  19662.000000  73108.000000   6700.000000   \n",
"75%                  12309.000000  22808.000000  80022.000000   7900.000000   \n",
"max                  41062.000000  99761.000000  99224.000000  45469.000000   \n",
"\n",
"       IsOnlineSale  WarrantyCost  \n",
"count  72983.000000  72983.000000  \n",
"mean       0.025280   1276.580985  \n",
"std        0.156975    598.846788  \n",
"min        0.000000    462.000000  \n",
"25%        0.000000    837.000000  \n",
"50%        0.000000   1155.000000  \n",
"75%        0.000000   1623.000000  \n",
"max        1.000000   7498.000000  "
]
},
"execution_count": 9,
"metadata": {},
"output_type": "execute_result"
}
],
"source": [
"train_data.describe()"
]
},
{
"cell_type": "code",
"execution_count": null,
"metadata": {
"colab": {
"base_uri": "https://localhost:8080/"
},
"id": "Q8ntS68B0086",
"outputId": "7e169fd2-40e3-4ef9-fcf8-0846e5b9215a"
},
"outputs": [],
"source": [
"# jovian.commit(project='course-project-assignment', privacy='secret')"
]
},
{
"cell_type": "markdown",
"metadata": {},
"source": [
"The `RefId` column is non essential so we can drop it."
]
},
{
"cell_type": "code",
"execution_count": 10,
"metadata": {},
"outputs": [],
"source": [
"X_train = train_data.drop(\n",
"    ['RefId', 'IsBadBuy'], \n",
"    axis=1\n",
")\n",
"X_test = test_data.drop(\n",
"    ['RefId'], \n",
"    axis=1\n",
")\n",
"\n",
"\n",
"y_train = train_data['IsBadBuy']"
]
},
{
"cell_type": "markdown",
"metadata": {},
"source": [
"## Splitting the data into Train, Validation and Test sets"
]
},
{
"cell_type": "markdown",
"metadata": {},
"source": [
"Splitting the data into train, validation and test sets as follows:\n",
"- Train:       70%\n",
"- Validation:  10%\n",
"- Test:        20%"
]
},
{
"cell_type": "code",
"execution_count": 11,
"metadata": {},
"outputs": [],
"source": [
"train_input, val_input, train_target, val_target = train_test_split(X_train, y_train, test_size=0.1)\n",
"test_input = X_test"
]
},
{
"cell_type": "markdown",
"metadata": {},
"source": [
"The columns `PRIMEUNIT` and `AUCGUART` have alot missing data. So we will drop them. Also the columns `WheelTypeID` and `WheelType` columns don't look important."
]
},
{
"cell_type": "code",
"execution_count": 12,
"metadata": {},
"outputs": [
{
"data": {
"image/png": "[encoded data removed]",
"text/plain": [
"<Figure size 1584x792 with 2 Axes>"
]
},
"metadata": {},
"output_type": "display_data"
}
],
"source": [
"plt.figure(figsize=(22, 11))\n",
"corr_matx = np.triu(train_data.corr())\n",
"\n",
"sns.heatmap(\n",
"    train_data.corr(),\n",
"    cmap='crest',\n",
"    annot=True,\n",
"    fmt='.3f',\n",
"    mask=corr_matx,\n",
")\n",
"\n",
"plt.show()"
]
},
{
"cell_type": "code",
"execution_count": null,
"metadata": {},
"outputs": [],
"source": [
"# jovian.commit()"
]
},
{
"cell_type": "markdown",
"metadata": {},
"source": [
"The following columns will be dropped:\n",
"1. `VehYear` - `VehicleAge` is similar to `VehYear`. So it can be removed.\n",
"2. `BYRNO` - It is unique number assigned to the buyer that purchased the vehicle. Can be ignored.\n",
"3. `WheelTypeID` - `WheelTypeID` and is numerical form of `WheelType`. So it can be removed.\n",
"4. `VNST` and `VNZIP` - State and Zipcode of vehicle purchase location, which is useless.\n",
"5. `PurchDate` - Purchase date will be useless as well.\n",
"6. `IsOnlineSale` - It has low covarience. So can be dropped."
]
},
{
"cell_type": "code",
"execution_count": 13,
"metadata": {},
"outputs": [],
"source": [
"drop_cols = ['VehYear', \n",
"             'BYRNO', \n",
"             'WheelTypeID', \n",
"             'VNST', \n",
"             'VNZIP1', \n",
"             'PurchDate',\n",
"            ]"
]
},
{
"cell_type": "code",
"execution_count": 14,
"metadata": {},
"outputs": [
{
"name": "stdout",
"output_type": "stream",
"text": [
"Categorical columns: ['PurchDate', 'Auction', 'Make', 'Model', 'Trim', 'SubModel', 'Color', 'Transmission', 'WheelType', 'Nationality', 'Size', 'TopThreeAmericanName', 'PRIMEUNIT', 'AUCGUART', 'VNST']\n",
"\n",
"Numeric columns: ['VehYear', 'VehicleAge', 'WheelTypeID', 'VehOdo', 'MMRAcquisitionAuctionAveragePrice', 'MMRAcquisitionAuctionCleanPrice', 'MMRAcquisitionRetailAveragePrice', 'MMRAcquisitonRetailCleanPrice', 'MMRCurrentAuctionAveragePrice', 'MMRCurrentAuctionCleanPrice', 'MMRCurrentRetailAveragePrice', 'MMRCurrentRetailCleanPrice', 'BYRNO', 'VNZIP1', 'VehBCost', 'IsOnlineSale', 'WarrantyCost']\n"
]
}
],
"source": [
"categorical_cols = train_input.select_dtypes(include='object').columns.to_list()\n",
"numerical_cols = train_input.select_dtypes(include=np.number).columns.to_list()\n",
"\n",
"print(f\"Categorical columns: {categorical_cols}\\n\")\n",
"print(f\"Numeric columns: {numerical_cols}\")"
]
},
{
"cell_type": "code",
"execution_count": 15,
"metadata": {
"scrolled": false
},
"outputs": [
{
"data": {
"image/png": "[encoded data removed]",
"text/plain": [
"<Figure size 936x504 with 1 Axes>"
]
},
"metadata": {},
"output_type": "display_data"
}
],
"source": [
"category_counts = {\n",
"    col: len(train_input[col].unique()) for col in categorical_cols\n",
"}\n",
"\n",
"category_counts_df = pd.DataFrame(\n",
"    index=category_counts.keys(), \n",
"    data=category_counts.values(), \n",
"    columns=['Count'],\n",
")\n",
"\n",
"category_counts_df = category_counts_df.sort_values(\"Count\", ascending=False)\n",
"\n",
"plt.figure(figsize=(13, 7))\n",
"\n",
"sns.barplot(\n",
"    y=category_counts_df.index, \n",
"    x=category_counts_df.Count,\n",
")\n",
"\n",
"plt.title('Categorical variable counts')\n",
"plt.show()"
]
},
{
"cell_type": "code",
"execution_count": null,
"metadata": {},
"outputs": [],
"source": [
"# jovian.commit()"
]
},
{
"cell_type": "markdown",
"metadata": {},
"source": [
"We will remove `Trim`, `Model` and `SubModel` as their variable count is relatively high."
]
},
{
"cell_type": "code",
"execution_count": 16,
"metadata": {},
"outputs": [],
"source": [
"drop_cols.extend(['Model', 'SubModel', 'Trim'])"
]
},
{
"cell_type": "code",
"execution_count": 17,
"metadata": {
"scrolled": false
},
"outputs": [
{
"data": {
"text/html": [
"<div>\n",
"<style scoped>\n",
"    .dataframe tbody tr th:only-of-type {\n",
"        vertical-align: middle;\n",
"    }\n",
"\n",
"    .dataframe tbody tr th {\n",
"        vertical-align: top;\n",
"    }\n",
"\n",
"    .dataframe thead th {\n",
"        text-align: right;\n",
"    }\n",
"</style>\n",
"<table border=\"1\" class=\"dataframe\">\n",
"  <thead>\n",
"    <tr style=\"text-align: right;\">\n",
"      <th></th>\n",
"      <th>counts</th>\n",
"    </tr>\n",
"  </thead>\n",
"  <tbody>\n",
"    <tr>\n",
"      <th>AUCGUART</th>\n",
"      <td>62608</td>\n",
"    </tr>\n",
"    <tr>\n",
"      <th>PRIMEUNIT</th>\n",
"      <td>62608</td>\n",
"    </tr>\n",
"    <tr>\n",
"      <th>WheelType</th>\n",
"      <td>2859</td>\n",
"    </tr>\n",
"    <tr>\n",
"      <th>WheelTypeID</th>\n",
"      <td>2856</td>\n",
"    </tr>\n",
"    <tr>\n",
"      <th>Trim</th>\n",
"      <td>2135</td>\n",
"    </tr>\n",
"    <tr>\n",
"      <th>MMRCurrentAuctionAveragePrice</th>\n",
"      <td>288</td>\n",
"    </tr>\n",
"    <tr>\n",
"      <th>MMRCurrentAuctionCleanPrice</th>\n",
"      <td>288</td>\n",
"    </tr>\n",
"    <tr>\n",
"      <th>MMRCurrentRetailAveragePrice</th>\n",
"      <td>288</td>\n",
"    </tr>\n",
"    <tr>\n",
"      <th>MMRCurrentRetailCleanPrice</th>\n",
"      <td>288</td>\n",
"    </tr>\n",
"    <tr>\n",
"      <th>MMRAcquisitionAuctionCleanPrice</th>\n",
"      <td>17</td>\n",
"    </tr>\n",
"    <tr>\n",
"      <th>MMRAcquisitionRetailAveragePrice</th>\n",
"      <td>17</td>\n",
"    </tr>\n",
"    <tr>\n",
"      <th>MMRAcquisitonRetailCleanPrice</th>\n",
"      <td>17</td>\n",
"    </tr>\n",
"    <tr>\n",
"      <th>MMRAcquisitionAuctionAveragePrice</th>\n",
"      <td>17</td>\n",
"    </tr>\n",
"    <tr>\n",
"      <th>Transmission</th>\n",
"      <td>7</td>\n",
"    </tr>\n",
"    <tr>\n",
"      <th>SubModel</th>\n",
"      <td>6</td>\n",
"    </tr>\n",
"    <tr>\n",
"      <th>Color</th>\n",
"      <td>6</td>\n",
"    </tr>\n",
"    <tr>\n",
"      <th>Nationality</th>\n",
"      <td>4</td>\n",
"    </tr>\n",
"    <tr>\n",
"      <th>Size</th>\n",
"      <td>4</td>\n",
"    </tr>\n",
"    <tr>\n",
"      <th>TopThreeAmericanName</th>\n",
"      <td>4</td>\n",
"    </tr>\n",
"  </tbody>\n",
"</table>\n",
"</div>"
],
"text/plain": [
"                                   counts\n",
"AUCGUART                            62608\n",
"PRIMEUNIT                           62608\n",
"WheelType                            2859\n",
"WheelTypeID                          2856\n",
"Trim                                 2135\n",
"MMRCurrentAuctionAveragePrice         288\n",
"MMRCurrentAuctionCleanPrice           288\n",
"MMRCurrentRetailAveragePrice          288\n",
"MMRCurrentRetailCleanPrice            288\n",
"MMRAcquisitionAuctionCleanPrice        17\n",
"MMRAcquisitionRetailAveragePrice       17\n",
"MMRAcquisitonRetailCleanPrice          17\n",
"MMRAcquisitionAuctionAveragePrice      17\n",
"Transmission                            7\n",
"SubModel                                6\n",
"Color                                   6\n",
"Nationality                             4\n",
"Size                                    4\n",
"TopThreeAmericanName                    4"
]
},
"execution_count": 17,
"metadata": {},
"output_type": "execute_result"
}
],
"source": [
"missing_count = pd.DataFrame(\n",
"    train_input.isna().sum()[train_input.isna().sum() > 0].sort_values(ascending=False),\n",
"    columns=['counts'],\n",
")\n",
"missing_count"
]
},
{
"cell_type": "code",
"execution_count": 18,
"metadata": {},
"outputs": [
{
"data": {
"image/png": "[encoded data removed]",
"text/plain": [
"<Figure size 936x504 with 1 Axes>"
]
},
"metadata": {},
"output_type": "display_data"
}
],
"source": [
"plt.figure(figsize=(13, 7))\n",
"\n",
"sns.barplot(\n",
"    x=missing_count.counts, \n",
"    y=missing_count.index,\n",
")\n",
"\n",
"plt.show()"
]
},
{
"cell_type": "markdown",
"metadata": {},
"source": [
"We will definitely drop `AUCGUART` and `PRIMEUNIT` columns as they have high missing count."
]
},
{
"cell_type": "code",
"execution_count": 19,
"metadata": {},
"outputs": [],
"source": [
"drop_cols.extend(['AUCGUART', 'PRIMEUNIT'])"
]
},
{
"cell_type": "markdown",
"metadata": {},
"source": [
"Dropping the columns that were selected"
]
},
{
"cell_type": "code",
"execution_count": 20,
"metadata": {
"scrolled": true
},
"outputs": [
{
"data": {
"text/html": [
"<div>\n",
"<style scoped>\n",
"    .dataframe tbody tr th:only-of-type {\n",
"        vertical-align: middle;\n",
"    }\n",
"\n",
"    .dataframe tbody tr th {\n",
"        vertical-align: top;\n",
"    }\n",
"\n",
"    .dataframe thead th {\n",
"        text-align: right;\n",
"    }\n",
"</style>\n",
"<table border=\"1\" class=\"dataframe\">\n",
"  <thead>\n",
"    <tr style=\"text-align: right;\">\n",
"      <th></th>\n",
"      <th>Auction</th>\n",
"      <th>VehicleAge</th>\n",
"      <th>Make</th>\n",
"      <th>Color</th>\n",
"      <th>Transmission</th>\n",
"      <th>WheelType</th>\n",
"      <th>VehOdo</th>\n",
"      <th>Nationality</th>\n",
"      <th>Size</th>\n",
"      <th>TopThreeAmericanName</th>\n",
"      <th>...</th>\n",
"      <th>MMRAcquisitionAuctionCleanPrice</th>\n",
"      <th>MMRAcquisitionRetailAveragePrice</th>\n",
"      <th>MMRAcquisitonRetailCleanPrice</th>\n",
"      <th>MMRCurrentAuctionAveragePrice</th>\n",
"      <th>MMRCurrentAuctionCleanPrice</th>\n",
"      <th>MMRCurrentRetailAveragePrice</th>\n",
"      <th>MMRCurrentRetailCleanPrice</th>\n",
"      <th>VehBCost</th>\n",
"      <th>IsOnlineSale</th>\n",
"      <th>WarrantyCost</th>\n",
"    </tr>\n",
"  </thead>\n",
"  <tbody>\n",
"    <tr>\n",
"      <th>59150</th>\n",
"      <td>MANHEIM</td>\n",
"      <td>3</td>\n",
"      <td>CHRYSLER</td>\n",
"      <td>SILVER</td>\n",
"      <td>AUTO</td>\n",
"      <td>Covers</td>\n",
"      <td>68471</td>\n",
"      <td>AMERICAN</td>\n",
"      <td>MEDIUM</td>\n",
"      <td>CHRYSLER</td>\n",
"      <td>...</td>\n",
"      <td>6596.0</td>\n",
"      <td>6509.0</td>\n",
"      <td>7624.0</td>\n",
"      <td>5115.0</td>\n",
"      <td>6246.0</td>\n",
"      <td>6024.0</td>\n",
"      <td>7246.0</td>\n",
"      <td>5260.0</td>\n",
"      <td>0</td>\n",
"      <td>1215</td>\n",
"    </tr>\n",
"    <tr>\n",
"      <th>19892</th>\n",
"      <td>OTHER</td>\n",
"      <td>1</td>\n",
"      <td>CHEVROLET</td>\n",
"      <td>BLUE</td>\n",
"      <td>AUTO</td>\n",
"      <td>Covers</td>\n",
"      <td>75009</td>\n",
"      <td>AMERICAN</td>\n",
"      <td>LARGE</td>\n",
"      <td>GM</td>\n",
"      <td>...</td>\n",
"      <td>9262.0</td>\n",
"      <td>9145.0</td>\n",
"      <td>10503.0</td>\n",
"      <td>7987.0</td>\n",
"      <td>9237.0</td>\n",
"      <td>11757.0</td>\n",
"      <td>13308.0</td>\n",
"      <td>7435.0</td>\n",
"      <td>0</td>\n",
"      <td>1974</td>\n",
"    </tr>\n",
"    <tr>\n",
"      <th>61968</th>\n",
"      <td>ADESA</td>\n",
"      <td>5</td>\n",
"      <td>DODGE</td>\n",
"      <td>GREEN</td>\n",
"      <td>AUTO</td>\n",
"      <td>Alloy</td>\n",
"      <td>76139</td>\n",
"      <td>AMERICAN</td>\n",
"      <td>SPECIALTY</td>\n",
"      <td>CHRYSLER</td>\n",
"      <td>...</td>\n",
"      <td>9104.0</td>\n",
"      <td>11687.0</td>\n",
"      <td>12796.0</td>\n",
"      <td>7385.0</td>\n",
"      <td>9086.0</td>\n",
"      <td>11176.0</td>\n",
"      <td>13023.0</td>\n",
"      <td>9915.0</td>\n",
"      <td>0</td>\n",
"      <td>1389</td>\n",
"    </tr>\n",
"    <tr>\n",
"      <th>39509</th>\n",
"      <td>MANHEIM</td>\n",
"      <td>3</td>\n",
"      <td>CHEVROLET</td>\n",
"      <td>SILVER</td>\n",
"      <td>AUTO</td>\n",
"      <td>Alloy</td>\n",
"      <td>70292</td>\n",
"      <td>AMERICAN</td>\n",
"      <td>LARGE</td>\n",
"      <td>GM</td>\n",
"      <td>...</td>\n",
"      <td>8151.0</td>\n",
"      <td>7916.0</td>\n",
"      <td>9303.0</td>\n",
"      <td>6867.0</td>\n",
"      <td>8151.0</td>\n",
"      <td>7916.0</td>\n",
"      <td>9303.0</td>\n",
"      <td>6915.0</td>\n",
"      <td>0</td>\n",
"      <td>1974</td>\n",
"    </tr>\n",
"    <tr>\n",
"      <th>55054</th>\n",
"      <td>OTHER</td>\n",
"      <td>5</td>\n",
"      <td>TOYOTA</td>\n",
"      <td>SILVER</td>\n",
"      <td>AUTO</td>\n",
"      <td>Alloy</td>\n",
"      <td>50713</td>\n",
"      <td>TOP LINE ASIAN</td>\n",
"      <td>MEDIUM</td>\n",
"      <td>OTHER</td>\n",
"      <td>...</td>\n",
"      <td>10267.0</td>\n",
"      <td>9596.0</td>\n",
"      <td>11588.0</td>\n",
"      <td>8505.0</td>\n",
"      <td>10062.0</td>\n",
"      <td>9685.0</td>\n",
"      <td>11367.0</td>\n",
"      <td>8925.0</td>\n",
"      <td>0</td>\n",
"      <td>505</td>\n",
"    </tr>\n",
"  </tbody>\n",
"</table>\n",
"<p>5 rows Ã— 21 columns</p>\n",
"</div>"
],
"text/plain": [
"       Auction  VehicleAge       Make   Color Transmission WheelType  VehOdo  \\\n",
"59150  MANHEIM           3   CHRYSLER  SILVER         AUTO    Covers   68471   \n",
"19892    OTHER           1  CHEVROLET    BLUE         AUTO    Covers   75009   \n",
"61968    ADESA           5      DODGE   GREEN         AUTO     Alloy   76139   \n",
"39509  MANHEIM           3  CHEVROLET  SILVER         AUTO     Alloy   70292   \n",
"55054    OTHER           5     TOYOTA  SILVER         AUTO     Alloy   50713   \n",
"\n",
"          Nationality       Size TopThreeAmericanName  ...  \\\n",
"59150        AMERICAN     MEDIUM             CHRYSLER  ...   \n",
"19892        AMERICAN      LARGE                   GM  ...   \n",
"61968        AMERICAN  SPECIALTY             CHRYSLER  ...   \n",
"39509        AMERICAN      LARGE                   GM  ...   \n",
"55054  TOP LINE ASIAN     MEDIUM                OTHER  ...   \n",
"\n",
"       MMRAcquisitionAuctionCleanPrice  MMRAcquisitionRetailAveragePrice  \\\n",
"59150                           6596.0                            6509.0   \n",
"19892                           9262.0                            9145.0   \n",
"61968                           9104.0                           11687.0   \n",
"39509                           8151.0                            7916.0   \n",
"55054                          10267.0                            9596.0   \n",
"\n",
"       MMRAcquisitonRetailCleanPrice  MMRCurrentAuctionAveragePrice  \\\n",
"59150                         7624.0                         5115.0   \n",
"19892                        10503.0                         7987.0   \n",
"61968                        12796.0                         7385.0   \n",
"39509                         9303.0                         6867.0   \n",
"55054                        11588.0                         8505.0   \n",
"\n",
"       MMRCurrentAuctionCleanPrice  MMRCurrentRetailAveragePrice  \\\n",
"59150                       6246.0                        6024.0   \n",
"19892                       9237.0                       11757.0   \n",
"61968                       9086.0                       11176.0   \n",
"39509                       8151.0                        7916.0   \n",
"55054                      10062.0                        9685.0   \n",
"\n",
"       MMRCurrentRetailCleanPrice  VehBCost  IsOnlineSale  WarrantyCost  \n",
"59150                      7246.0    5260.0             0          1215  \n",
"19892                     13308.0    7435.0             0          1974  \n",
"61968                     13023.0    9915.0             0          1389  \n",
"39509                      9303.0    6915.0             0          1974  \n",
"55054                     11367.0    8925.0             0           505  \n",
"\n",
"[5 rows x 21 columns]"
]
},
"execution_count": 20,
"metadata": {},
"output_type": "execute_result"
}
],
"source": [
"train_input = train_input.drop(drop_cols, axis=1)\n",
"val_input = val_input.drop(drop_cols, axis=1)\n",
"test_input = test_input.drop(drop_cols, axis=1)\n",
"\n",
"train_input.head()"
]
},
{
"cell_type": "code",
"execution_count": 21,
"metadata": {},
"outputs": [
{
"data": {
"text/plain": [
"65684"
]
},
"execution_count": 21,
"metadata": {},
"output_type": "execute_result"
}
],
"source": [
"len(train_input)"
]
},
{
"cell_type": "markdown",
"metadata": {},
"source": [
"## Handling Missing Categorical Data"
]
},
{
"cell_type": "code",
"execution_count": 22,
"metadata": {},
"outputs": [
{
"name": "stdout",
"output_type": "stream",
"text": [
"Categorical columns: ['Auction', 'Make', 'Color', 'Transmission', 'WheelType', 'Nationality', 'Size', 'TopThreeAmericanName']\n",
"\n",
"Numeric columns: ['VehicleAge', 'VehOdo', 'MMRAcquisitionAuctionAveragePrice', 'MMRAcquisitionAuctionCleanPrice', 'MMRAcquisitionRetailAveragePrice', 'MMRAcquisitonRetailCleanPrice', 'MMRCurrentAuctionAveragePrice', 'MMRCurrentAuctionCleanPrice', 'MMRCurrentRetailAveragePrice', 'MMRCurrentRetailCleanPrice', 'VehBCost', 'IsOnlineSale', 'WarrantyCost']\n"
]
}
],
"source": [
"categorical_cols = train_input.select_dtypes(include='object').columns.to_list()\n",
"numerical_cols = train_input.select_dtypes(include=np.number).columns.to_list()\n",
"\n",
"print(f\"Categorical columns: {categorical_cols}\\n\")\n",
"print(f\"Numeric columns: {numerical_cols}\")"
]
},
{
"cell_type": "code",
"execution_count": 23,
"metadata": {},
"outputs": [
{
"name": "stdout",
"output_type": "stream",
"text": [
"Missing categorical variables count: \n"
]
},
{
"data": {
"text/plain": [
"WheelType               2859\n",
"Transmission               7\n",
"Color                      6\n",
"Nationality                4\n",
"Size                       4\n",
"TopThreeAmericanName       4\n",
"Auction                    0\n",
"Make                       0\n",
"dtype: int64"
]
},
"execution_count": 23,
"metadata": {},
"output_type": "execute_result"
}
],
"source": [
"print(\"Missing categorical variables count: \")\n",
"train_input[categorical_cols].isna().sum().sort_values(ascending=False)"
]
},
{
"cell_type": "markdown",
"metadata": {},
"source": [
"We will fill the missing categorical columns with the most frequent variable from each columns."
]
},
{
"cell_type": "code",
"execution_count": 24,
"metadata": {
"scrolled": true
},
"outputs": [
{
"name": "stdout",
"output_type": "stream",
"text": [
"WheelType: Alloy\n",
"Transmission: AUTO\n",
"Color: SILVER\n",
"Nationality: AMERICAN\n",
"Size: MEDIUM\n",
"TopThreeAmericanName: GM\n"
]
}
],
"source": [
"fillna_wheel_type = train_input['WheelType'].value_counts(dropna=False).index[0]\n",
"fillna_transmission = train_input['Transmission'].value_counts(dropna=False).index[0]\n",
"fillna_color = train_input['Color'].value_counts(dropna=False).index[0]\n",
"fillna_nationality = train_input['Nationality'].value_counts(dropna=False).index[0]\n",
"fillna_size = train_input['Size'].value_counts(dropna=False).index[0]\n",
"fillna_top_name = train_input['TopThreeAmericanName'].value_counts(dropna=False).index[0]\n",
"\n",
"print(f\"\"\"WheelType: {fillna_wheel_type}\n",
"Transmission: {fillna_transmission}\n",
"Color: {fillna_color}\n",
"Nationality: {fillna_nationality}\n",
"Size: {fillna_size}\n",
"TopThreeAmericanName: {fillna_top_name}\"\"\")"
]
},
{
"cell_type": "code",
"execution_count": 25,
"metadata": {},
"outputs": [],
"source": [
"train_input['WheelType'].fillna(value=fillna_wheel_type, inplace=True)\n",
"train_input['Transmission'].fillna(value=fillna_transmission, inplace=True)\n",
"train_input['Color'].fillna(value=fillna_color, inplace=True)\n",
"train_input['Nationality'].fillna(value=fillna_nationality, inplace=True)\n",
"train_input['Size'].fillna(value=fillna_size, inplace=True)\n",
"train_input['TopThreeAmericanName'].fillna(value=fillna_top_name, inplace=True)\n",
"\n",
"val_input['WheelType'].fillna(value=fillna_wheel_type, inplace=True)\n",
"val_input['Transmission'].fillna(value=fillna_transmission, inplace=True)\n",
"val_input['Color'].fillna(value=fillna_color, inplace=True)\n",
"val_input['Nationality'].fillna(value=fillna_nationality, inplace=True)\n",
"val_input['Size'].fillna(value=fillna_size, inplace=True)\n",
"val_input['TopThreeAmericanName'].fillna(value=fillna_top_name, inplace=True)\n",
"\n",
"test_input['WheelType'].fillna(value=fillna_wheel_type, inplace=True)\n",
"test_input['Transmission'].fillna(value=fillna_transmission, inplace=True)\n",
"test_input['Color'].fillna(value=fillna_color, inplace=True)\n",
"test_input['Nationality'].fillna(value=fillna_nationality, inplace=True)\n",
"test_input['Size'].fillna(value=fillna_size, inplace=True)\n",
"test_input['TopThreeAmericanName'].fillna(value=fillna_top_name, inplace=True)"
]
},
{
"cell_type": "code",
"execution_count": 26,
"metadata": {},
"outputs": [
{
"data": {
"text/plain": [
"Auction                 0\n",
"Make                    0\n",
"Color                   0\n",
"Transmission            0\n",
"WheelType               0\n",
"Nationality             0\n",
"Size                    0\n",
"TopThreeAmericanName    0\n",
"dtype: int64"
]
},
"execution_count": 26,
"metadata": {},
"output_type": "execute_result"
}
],
"source": [
"train_input[categorical_cols].isna().sum().sort_values(ascending=False)"
]
},
{
"cell_type": "code",
"execution_count": null,
"metadata": {},
"outputs": [],
"source": [
"# jovian.commit()"
]
},
{
"cell_type": "markdown",
"metadata": {},
"source": [
"## Handing Missing Numerical Data"
]
},
{
"cell_type": "code",
"execution_count": 27,
"metadata": {},
"outputs": [
{
"name": "stdout",
"output_type": "stream",
"text": [
"Missing numerical variables count: \n"
]
},
{
"data": {
"text/plain": [
"MMRCurrentAuctionAveragePrice        288\n",
"MMRCurrentAuctionCleanPrice          288\n",
"MMRCurrentRetailAveragePrice         288\n",
"MMRCurrentRetailCleanPrice           288\n",
"MMRAcquisitionAuctionAveragePrice     17\n",
"MMRAcquisitionAuctionCleanPrice       17\n",
"MMRAcquisitionRetailAveragePrice      17\n",
"MMRAcquisitonRetailCleanPrice         17\n",
"VehicleAge                             0\n",
"VehOdo                                 0\n",
"VehBCost                               0\n",
"IsOnlineSale                           0\n",
"WarrantyCost                           0\n",
"dtype: int64"
]
},
"execution_count": 27,
"metadata": {},
"output_type": "execute_result"
}
],
"source": [
"print(\"Missing numerical variables count: \")\n",
"train_input[numerical_cols].isna().sum().sort_values(ascending=False)"
]
},
{
"cell_type": "code",
"execution_count": 28,
"metadata": {
"scrolled": true
},
"outputs": [
{
"data": {
"image/png": "[encoded data removed]",
"text/plain": [
"<Figure size 864x1296 with 8 Axes>"
]
},
"metadata": {},
"output_type": "display_data"
}
],
"source": [
"fig, ((ax1, ax2), (ax3, ax4), (ax5, ax6), (ax7, ax8)) = plt.subplots(4, 2, figsize=(12, 18))\n",
"\n",
"sns.kdeplot(train_input.MMRCurrentAuctionAveragePrice, ax=ax1, color='red')\n",
"sns.kdeplot(train_input.MMRCurrentAuctionCleanPrice, ax=ax2, color='darkgreen')\n",
"ax2.set_ylabel(\"\")\n",
"\n",
"sns.kdeplot(train_input.MMRCurrentRetailAveragePrice, ax=ax3, color='green')\n",
"sns.kdeplot(train_input.MMRCurrentRetailCleanPrice, ax=ax4, color='orange')\n",
"ax4.set_ylabel(\"\")\n",
"\n",
"sns.kdeplot(train_input.MMRAcquisitionAuctionAveragePrice, ax=ax5, color='magenta')\n",
"sns.kdeplot(train_input.MMRAcquisitionAuctionCleanPrice, ax=ax6, color='lightblue')\n",
"ax6.set_ylabel(\"\")\n",
"\n",
"sns.kdeplot(train_input.MMRAcquisitionRetailAveragePrice, ax=ax7, color='darkred')\n",
"sns.kdeplot(train_input.MMRAcquisitonRetailCleanPrice, ax=ax8, color='violet')\n",
"ax8.set_ylabel(\"\")\n",
"\n",
"plt.show()"
]
},
{
"cell_type": "markdown",
"metadata": {},
"source": [
"We can see that `MMR*` columns have right skewed distribution. So, we will use the mean data to replace the missing data of these columns."
]
},
{
"cell_type": "code",
"execution_count": 29,
"metadata": {},
"outputs": [],
"source": [
"imputer = SimpleImputer(\n",
"    strategy='mean',\n",
")\n",
"imputer.fit(train_input[numerical_cols])\n",
"train_input[numerical_cols] = imputer.transform(train_input[numerical_cols])\n",
"val_input[numerical_cols] = imputer.transform(val_input[numerical_cols])\n",
"test_input[numerical_cols] = imputer.transform(test_input[numerical_cols])"
]
},
{
"cell_type": "code",
"execution_count": 30,
"metadata": {
"scrolled": true
},
"outputs": [
{
"name": "stdout",
"output_type": "stream",
"text": [
"Missing numerical variables count: \n"
]
},
{
"data": {
"text/plain": [
"VehicleAge                           0\n",
"VehOdo                               0\n",
"MMRAcquisitionAuctionAveragePrice    0\n",
"MMRAcquisitionAuctionCleanPrice      0\n",
"MMRAcquisitionRetailAveragePrice     0\n",
"MMRAcquisitonRetailCleanPrice        0\n",
"MMRCurrentAuctionAveragePrice        0\n",
"MMRCurrentAuctionCleanPrice          0\n",
"MMRCurrentRetailAveragePrice         0\n",
"MMRCurrentRetailCleanPrice           0\n",
"VehBCost                             0\n",
"IsOnlineSale                         0\n",
"WarrantyCost                         0\n",
"dtype: int64"
]
},
"execution_count": 30,
"metadata": {},
"output_type": "execute_result"
}
],
"source": [
"print(\"Missing numerical variables count: \")\n",
"train_input[numerical_cols].isna().sum().sort_values(ascending=False)"
]
},
{
"cell_type": "code",
"execution_count": null,
"metadata": {
"scrolled": true
},
"outputs": [],
"source": [
"# jovian.commit()"
]
},
{
"cell_type": "markdown",
"metadata": {},
"source": [
"## Scaling Numerical Data"
]
},
{
"cell_type": "code",
"execution_count": 31,
"metadata": {},
"outputs": [
{
"data": {
"text/html": [
"<style>#sk-container-id-1 {color: black;background-color: white;}#sk-container-id-1 pre{padding: 0;}#sk-container-id-1 div.sk-toggleable {background-color: white;}#sk-container-id-1 label.sk-toggleable__label {cursor: pointer;display: block;width: 100%;margin-bottom: 0;padding: 0.3em;box-sizing: border-box;text-align: center;}#sk-container-id-1 label.sk-toggleable__label-arrow:before {content: \"â–¸\";float: left;margin-right: 0.25em;color: #696969;}#sk-container-id-1 label.sk-toggleable__label-arrow:hover:before {color: black;}#sk-container-id-1 div.sk-estimator:hover label.sk-toggleable__label-arrow:before {color: black;}#sk-container-id-1 div.sk-toggleable__content {max-height: 0;max-width: 0;overflow: hidden;text-align: left;background-color: #f0f8ff;}#sk-container-id-1 div.sk-toggleable__content pre {margin: 0.2em;color: black;border-radius: 0.25em;background-color: #f0f8ff;}#sk-container-id-1 input.sk-toggleable__control:checked~div.sk-toggleable__content {max-height: 200px;max-width: 100%;overflow: auto;}#sk-container-id-1 input.sk-toggleable__control:checked~label.sk-toggleable__label-arrow:before {content: \"â–¾\";}#sk-container-id-1 div.sk-estimator input.sk-toggleable__control:checked~label.sk-toggleable__label {background-color: #d4ebff;}#sk-container-id-1 div.sk-label input.sk-toggleable__control:checked~label.sk-toggleable__label {background-color: #d4ebff;}#sk-container-id-1 input.sk-hidden--visually {border: 0;clip: rect(1px 1px 1px 1px);clip: rect(1px, 1px, 1px, 1px);height: 1px;margin: -1px;overflow: hidden;padding: 0;position: absolute;width: 1px;}#sk-container-id-1 div.sk-estimator {font-family: monospace;background-color: #f0f8ff;border: 1px dotted black;border-radius: 0.25em;box-sizing: border-box;margin-bottom: 0.5em;}#sk-container-id-1 div.sk-estimator:hover {background-color: #d4ebff;}#sk-container-id-1 div.sk-parallel-item::after {content: \"\";width: 100%;border-bottom: 1px solid gray;flex-grow: 1;}#sk-container-id-1 div.sk-label:hover label.sk-toggleable__label {background-color: #d4ebff;}#sk-container-id-1 div.sk-serial::before {content: \"\";position: absolute;border-left: 1px solid gray;box-sizing: border-box;top: 0;bottom: 0;left: 50%;z-index: 0;}#sk-container-id-1 div.sk-serial {display: flex;flex-direction: column;align-items: center;background-color: white;padding-right: 0.2em;padding-left: 0.2em;position: relative;}#sk-container-id-1 div.sk-item {position: relative;z-index: 1;}#sk-container-id-1 div.sk-parallel {display: flex;align-items: stretch;justify-content: center;background-color: white;position: relative;}#sk-container-id-1 div.sk-item::before, #sk-container-id-1 div.sk-parallel-item::before {content: \"\";position: absolute;border-left: 1px solid gray;box-sizing: border-box;top: 0;bottom: 0;left: 50%;z-index: -1;}#sk-container-id-1 div.sk-parallel-item {display: flex;flex-direction: column;z-index: 1;position: relative;background-color: white;}#sk-container-id-1 div.sk-parallel-item:first-child::after {align-self: flex-end;width: 50%;}#sk-container-id-1 div.sk-parallel-item:last-child::after {align-self: flex-start;width: 50%;}#sk-container-id-1 div.sk-parallel-item:only-child::after {width: 0;}#sk-container-id-1 div.sk-dashed-wrapped {border: 1px dashed gray;margin: 0 0.4em 0.5em 0.4em;box-sizing: border-box;padding-bottom: 0.4em;background-color: white;}#sk-container-id-1 div.sk-label label {font-family: monospace;font-weight: bold;display: inline-block;line-height: 1.2em;}#sk-container-id-1 div.sk-label-container {text-align: center;}#sk-container-id-1 div.sk-container {/* jupyter's `normalize.less` sets `[hidden] { display: none; }` but bootstrap.min.css set `[hidden] { display: none !important; }` so we also need the `!important` here to be able to override the default hidden behavior on the sphinx rendered scikit-learn.org. See: https://github.com/scikit-learn/scikit-learn/issues/21755 */display: inline-block !important;position: relative;}#sk-container-id-1 div.sk-text-repr-fallback {display: none;}</style><div id=\"sk-container-id-1\" class=\"sk-top-container\"><div class=\"sk-text-repr-fallback\"><pre>MinMaxScaler()</pre><b>In a Jupyter environment, please rerun this cell to show the HTML representation or trust the notebook. <br />On GitHub, the HTML representation is unable to render, please try loading this page with nbviewer.org.</b></div><div class=\"sk-container\" hidden><div class=\"sk-item\"><div class=\"sk-estimator sk-toggleable\"><input class=\"sk-toggleable__control sk-hidden--visually\" id=\"sk-estimator-id-1\" type=\"checkbox\" checked><label for=\"sk-estimator-id-1\" class=\"sk-toggleable__label sk-toggleable__label-arrow\">MinMaxScaler</label><div class=\"sk-toggleable__content\"><pre>MinMaxScaler()</pre></div></div></div></div></div>"
],
"text/plain": [
"MinMaxScaler()"
]
},
"execution_count": 31,
"metadata": {},
"output_type": "execute_result"
}
],
"source": [
"scaler = MinMaxScaler()\n",
"scaler.fit(train_input[numerical_cols])"
]
},
{
"cell_type": "code",
"execution_count": 32,
"metadata": {},
"outputs": [],
"source": [
"train_input[numerical_cols] = scaler.transform(train_input[numerical_cols])\n",
"val_input[numerical_cols] = scaler.transform(val_input[numerical_cols])\n",
"test_input[numerical_cols] = scaler.transform(test_input[numerical_cols])"
]
},
{
"cell_type": "code",
"execution_count": 33,
"metadata": {},
"outputs": [
{
"data": {
"text/html": [
"<div>\n",
"<style scoped>\n",
"    .dataframe tbody tr th:only-of-type {\n",
"        vertical-align: middle;\n",
"    }\n",
"\n",
"    .dataframe tbody tr th {\n",
"        vertical-align: top;\n",
"    }\n",
"\n",
"    .dataframe thead th {\n",
"        text-align: right;\n",
"    }\n",
"</style>\n",
"<table border=\"1\" class=\"dataframe\">\n",
"  <thead>\n",
"    <tr style=\"text-align: right;\">\n",
"      <th></th>\n",
"      <th>VehicleAge</th>\n",
"      <th>VehOdo</th>\n",
"      <th>MMRAcquisitionAuctionAveragePrice</th>\n",
"      <th>MMRAcquisitionAuctionCleanPrice</th>\n",
"      <th>MMRAcquisitionRetailAveragePrice</th>\n",
"      <th>MMRAcquisitonRetailCleanPrice</th>\n",
"      <th>MMRCurrentAuctionAveragePrice</th>\n",
"      <th>MMRCurrentAuctionCleanPrice</th>\n",
"      <th>MMRCurrentRetailAveragePrice</th>\n",
"      <th>MMRCurrentRetailCleanPrice</th>\n",
"      <th>VehBCost</th>\n",
"      <th>IsOnlineSale</th>\n",
"      <th>WarrantyCost</th>\n",
"    </tr>\n",
"  </thead>\n",
"  <tbody>\n",
"    <tr>\n",
"      <th>59150</th>\n",
"      <td>0.333333</td>\n",
"      <td>0.573946</td>\n",
"      <td>0.155758</td>\n",
"      <td>0.178952</td>\n",
"      <td>0.166556</td>\n",
"      <td>0.183791</td>\n",
"      <td>0.143189</td>\n",
"      <td>0.169457</td>\n",
"      <td>0.154145</td>\n",
"      <td>0.176465</td>\n",
"      <td>0.115664</td>\n",
"      <td>0.0</td>\n",
"      <td>0.111787</td>\n",
"    </tr>\n",
"    <tr>\n",
"      <th>19892</th>\n",
"      <td>0.111111</td>\n",
"      <td>0.632904</td>\n",
"      <td>0.224092</td>\n",
"      <td>0.251282</td>\n",
"      <td>0.234007</td>\n",
"      <td>0.253194</td>\n",
"      <td>0.223588</td>\n",
"      <td>0.250604</td>\n",
"      <td>0.300844</td>\n",
"      <td>0.324095</td>\n",
"      <td>0.163500</td>\n",
"      <td>0.0</td>\n",
"      <td>0.224466</td>\n",
"    </tr>\n",
"    <tr>\n",
"      <th>61968</th>\n",
"      <td>0.555556</td>\n",
"      <td>0.643094</td>\n",
"      <td>0.215637</td>\n",
"      <td>0.246995</td>\n",
"      <td>0.299053</td>\n",
"      <td>0.308471</td>\n",
"      <td>0.206735</td>\n",
"      <td>0.246507</td>\n",
"      <td>0.285977</td>\n",
"      <td>0.317155</td>\n",
"      <td>0.218043</td>\n",
"      <td>0.0</td>\n",
"      <td>0.137619</td>\n",
"    </tr>\n",
"    <tr>\n",
"      <th>39509</th>\n",
"      <td>0.333333</td>\n",
"      <td>0.590367</td>\n",
"      <td>0.192234</td>\n",
"      <td>0.221140</td>\n",
"      <td>0.202559</td>\n",
"      <td>0.224266</td>\n",
"      <td>0.192234</td>\n",
"      <td>0.221140</td>\n",
"      <td>0.202559</td>\n",
"      <td>0.226560</td>\n",
"      <td>0.152063</td>\n",
"      <td>0.0</td>\n",
"      <td>0.224466</td>\n",
"    </tr>\n",
"    <tr>\n",
"      <th>55054</th>\n",
"      <td>0.555556</td>\n",
"      <td>0.413808</td>\n",
"      <td>0.235765</td>\n",
"      <td>0.278548</td>\n",
"      <td>0.245548</td>\n",
"      <td>0.279350</td>\n",
"      <td>0.238089</td>\n",
"      <td>0.272986</td>\n",
"      <td>0.247825</td>\n",
"      <td>0.276825</td>\n",
"      <td>0.196270</td>\n",
"      <td>0.0</td>\n",
"      <td>0.006384</td>\n",
"    </tr>\n",
"  </tbody>\n",
"</table>\n",
"</div>"
],
"text/plain": [
"       VehicleAge    VehOdo  MMRAcquisitionAuctionAveragePrice  \\\n",
"59150    0.333333  0.573946                           0.155758   \n",
"19892    0.111111  0.632904                           0.224092   \n",
"61968    0.555556  0.643094                           0.215637   \n",
"39509    0.333333  0.590367                           0.192234   \n",
"55054    0.555556  0.413808                           0.235765   \n",
"\n",
"       MMRAcquisitionAuctionCleanPrice  MMRAcquisitionRetailAveragePrice  \\\n",
"59150                         0.178952                          0.166556   \n",
"19892                         0.251282                          0.234007   \n",
"61968                         0.246995                          0.299053   \n",
"39509                         0.221140                          0.202559   \n",
"55054                         0.278548                          0.245548   \n",
"\n",
"       MMRAcquisitonRetailCleanPrice  MMRCurrentAuctionAveragePrice  \\\n",
"59150                       0.183791                       0.143189   \n",
"19892                       0.253194                       0.223588   \n",
"61968                       0.308471                       0.206735   \n",
"39509                       0.224266                       0.192234   \n",
"55054                       0.279350                       0.238089   \n",
"\n",
"       MMRCurrentAuctionCleanPrice  MMRCurrentRetailAveragePrice  \\\n",
"59150                     0.169457                      0.154145   \n",
"19892                     0.250604                      0.300844   \n",
"61968                     0.246507                      0.285977   \n",
"39509                     0.221140                      0.202559   \n",
"55054                     0.272986                      0.247825   \n",
"\n",
"       MMRCurrentRetailCleanPrice  VehBCost  IsOnlineSale  WarrantyCost  \n",
"59150                    0.176465  0.115664           0.0      0.111787  \n",
"19892                    0.324095  0.163500           0.0      0.224466  \n",
"61968                    0.317155  0.218043           0.0      0.137619  \n",
"39509                    0.226560  0.152063           0.0      0.224466  \n",
"55054                    0.276825  0.196270           0.0      0.006384  "
]
},
"execution_count": 33,
"metadata": {},
"output_type": "execute_result"
}
],
"source": [
"train_input[numerical_cols].head()"
]
},
{
"cell_type": "markdown",
"metadata": {},
"source": [
"## One Hot Encoding the Categorical Data"
]
},
{
"cell_type": "code",
"execution_count": 34,
"metadata": {},
"outputs": [
{
"name": "stdout",
"output_type": "stream",
"text": [
"Auction: 3\n",
"Make: 33\n",
"Color: 16\n",
"Transmission: 3\n",
"WheelType: 3\n",
"Nationality: 4\n",
"Size: 12\n",
"TopThreeAmericanName: 4\n"
]
}
],
"source": [
"category_counts = {\n",
"    col: len(train_input[col].unique()) for col in categorical_cols\n",
"}\n",
"\n",
"for key, val in category_counts.items():\n",
"    print(f\"{key}: {val}\")"
]
},
{
"cell_type": "code",
"execution_count": 35,
"metadata": {},
"outputs": [
{
"name": "stderr",
"output_type": "stream",
"text": [
"/opt/conda/lib/python3.9/site-packages/sklearn/preprocessing/_encoders.py:868: FutureWarning: `sparse` was renamed to `sparse_output` in version 1.2 and will be removed in 1.4. `sparse_output` is ignored unless you leave `sparse` to its default value.\n",
"  warnings.warn(\n"
]
},
{
"data": {
"text/html": [
"<style>#sk-container-id-2 {color: black;background-color: white;}#sk-container-id-2 pre{padding: 0;}#sk-container-id-2 div.sk-toggleable {background-color: white;}#sk-container-id-2 label.sk-toggleable__label {cursor: pointer;display: block;width: 100%;margin-bottom: 0;padding: 0.3em;box-sizing: border-box;text-align: center;}#sk-container-id-2 label.sk-toggleable__label-arrow:before {content: \"â–¸\";float: left;margin-right: 0.25em;color: #696969;}#sk-container-id-2 label.sk-toggleable__label-arrow:hover:before {color: black;}#sk-container-id-2 div.sk-estimator:hover label.sk-toggleable__label-arrow:before {color: black;}#sk-container-id-2 div.sk-toggleable__content {max-height: 0;max-width: 0;overflow: hidden;text-align: left;background-color: #f0f8ff;}#sk-container-id-2 div.sk-toggleable__content pre {margin: 0.2em;color: black;border-radius: 0.25em;background-color: #f0f8ff;}#sk-container-id-2 input.sk-toggleable__control:checked~div.sk-toggleable__content {max-height: 200px;max-width: 100%;overflow: auto;}#sk-container-id-2 input.sk-toggleable__control:checked~label.sk-toggleable__label-arrow:before {content: \"â–¾\";}#sk-container-id-2 div.sk-estimator input.sk-toggleable__control:checked~label.sk-toggleable__label {background-color: #d4ebff;}#sk-container-id-2 div.sk-label input.sk-toggleable__control:checked~label.sk-toggleable__label {background-color: #d4ebff;}#sk-container-id-2 input.sk-hidden--visually {border: 0;clip: rect(1px 1px 1px 1px);clip: rect(1px, 1px, 1px, 1px);height: 1px;margin: -1px;overflow: hidden;padding: 0;position: absolute;width: 1px;}#sk-container-id-2 div.sk-estimator {font-family: monospace;background-color: #f0f8ff;border: 1px dotted black;border-radius: 0.25em;box-sizing: border-box;margin-bottom: 0.5em;}#sk-container-id-2 div.sk-estimator:hover {background-color: #d4ebff;}#sk-container-id-2 div.sk-parallel-item::after {content: \"\";width: 100%;border-bottom: 1px solid gray;flex-grow: 1;}#sk-container-id-2 div.sk-label:hover label.sk-toggleable__label {background-color: #d4ebff;}#sk-container-id-2 div.sk-serial::before {content: \"\";position: absolute;border-left: 1px solid gray;box-sizing: border-box;top: 0;bottom: 0;left: 50%;z-index: 0;}#sk-container-id-2 div.sk-serial {display: flex;flex-direction: column;align-items: center;background-color: white;padding-right: 0.2em;padding-left: 0.2em;position: relative;}#sk-container-id-2 div.sk-item {position: relative;z-index: 1;}#sk-container-id-2 div.sk-parallel {display: flex;align-items: stretch;justify-content: center;background-color: white;position: relative;}#sk-container-id-2 div.sk-item::before, #sk-container-id-2 div.sk-parallel-item::before {content: \"\";position: absolute;border-left: 1px solid gray;box-sizing: border-box;top: 0;bottom: 0;left: 50%;z-index: -1;}#sk-container-id-2 div.sk-parallel-item {display: flex;flex-direction: column;z-index: 1;position: relative;background-color: white;}#sk-container-id-2 div.sk-parallel-item:first-child::after {align-self: flex-end;width: 50%;}#sk-container-id-2 div.sk-parallel-item:last-child::after {align-self: flex-start;width: 50%;}#sk-container-id-2 div.sk-parallel-item:only-child::after {width: 0;}#sk-container-id-2 div.sk-dashed-wrapped {border: 1px dashed gray;margin: 0 0.4em 0.5em 0.4em;box-sizing: border-box;padding-bottom: 0.4em;background-color: white;}#sk-container-id-2 div.sk-label label {font-family: monospace;font-weight: bold;display: inline-block;line-height: 1.2em;}#sk-container-id-2 div.sk-label-container {text-align: center;}#sk-container-id-2 div.sk-container {/* jupyter's `normalize.less` sets `[hidden] { display: none; }` but bootstrap.min.css set `[hidden] { display: none !important; }` so we also need the `!important` here to be able to override the default hidden behavior on the sphinx rendered scikit-learn.org. See: https://github.com/scikit-learn/scikit-learn/issues/21755 */display: inline-block !important;position: relative;}#sk-container-id-2 div.sk-text-repr-fallback {display: none;}</style><div id=\"sk-container-id-2\" class=\"sk-top-container\"><div class=\"sk-text-repr-fallback\"><pre>OneHotEncoder(handle_unknown=&#x27;ignore&#x27;, sparse=False, sparse_output=False)</pre><b>In a Jupyter environment, please rerun this cell to show the HTML representation or trust the notebook. <br />On GitHub, the HTML representation is unable to render, please try loading this page with nbviewer.org.</b></div><div class=\"sk-container\" hidden><div class=\"sk-item\"><div class=\"sk-estimator sk-toggleable\"><input class=\"sk-toggleable__control sk-hidden--visually\" id=\"sk-estimator-id-2\" type=\"checkbox\" checked><label for=\"sk-estimator-id-2\" class=\"sk-toggleable__label sk-toggleable__label-arrow\">OneHotEncoder</label><div class=\"sk-toggleable__content\"><pre>OneHotEncoder(handle_unknown=&#x27;ignore&#x27;, sparse=False, sparse_output=False)</pre></div></div></div></div></div>"
],
"text/plain": [
"OneHotEncoder(handle_unknown='ignore', sparse=False, sparse_output=False)"
]
},
"execution_count": 35,
"metadata": {},
"output_type": "execute_result"
}
],
"source": [
"encoder = OneHotEncoder(sparse=False, handle_unknown='ignore')\n",
"encoder.fit(train_input[categorical_cols])"
]
},
{
"cell_type": "code",
"execution_count": 36,
"metadata": {},
"outputs": [],
"source": [
"encoded_cols = list(encoder.get_feature_names_out(categorical_cols))"
]
},
{
"cell_type": "code",
"execution_count": 37,
"metadata": {},
"outputs": [],
"source": [
"train_input[encoded_cols] = encoder.transform(train_input[categorical_cols])\n",
"val_input[encoded_cols] = encoder.transform(val_input[categorical_cols])\n",
"test_input[encoded_cols] = encoder.transform(test_input[categorical_cols])"
]
},
{
"cell_type": "code",
"execution_count": 38,
"metadata": {},
"outputs": [
{
"data": {
"text/html": [
"<div>\n",
"<style scoped>\n",
"    .dataframe tbody tr th:only-of-type {\n",
"        vertical-align: middle;\n",
"    }\n",
"\n",
"    .dataframe tbody tr th {\n",
"        vertical-align: top;\n",
"    }\n",
"\n",
"    .dataframe thead th {\n",
"        text-align: right;\n",
"    }\n",
"</style>\n",
"<table border=\"1\" class=\"dataframe\">\n",
"  <thead>\n",
"    <tr style=\"text-align: right;\">\n",
"      <th></th>\n",
"      <th>Auction_ADESA</th>\n",
"      <th>Auction_MANHEIM</th>\n",
"      <th>Auction_OTHER</th>\n",
"      <th>Make_ACURA</th>\n",
"      <th>Make_BUICK</th>\n",
"      <th>Make_CADILLAC</th>\n",
"      <th>Make_CHEVROLET</th>\n",
"      <th>Make_CHRYSLER</th>\n",
"      <th>Make_DODGE</th>\n",
"      <th>Make_FORD</th>\n",
"      <th>...</th>\n",
"      <th>Size_MEDIUM SUV</th>\n",
"      <th>Size_SMALL SUV</th>\n",
"      <th>Size_SMALL TRUCK</th>\n",
"      <th>Size_SPECIALTY</th>\n",
"      <th>Size_SPORTS</th>\n",
"      <th>Size_VAN</th>\n",
"      <th>TopThreeAmericanName_CHRYSLER</th>\n",
"      <th>TopThreeAmericanName_FORD</th>\n",
"      <th>TopThreeAmericanName_GM</th>\n",
"      <th>TopThreeAmericanName_OTHER</th>\n",
"    </tr>\n",
"  </thead>\n",
"  <tbody>\n",
"    <tr>\n",
"      <th>59150</th>\n",
"      <td>0.0</td>\n",
"      <td>1.0</td>\n",
"      <td>0.0</td>\n",
"      <td>0.0</td>\n",
"      <td>0.0</td>\n",
"      <td>0.0</td>\n",
"      <td>0.0</td>\n",
"      <td>1.0</td>\n",
"      <td>0.0</td>\n",
"      <td>0.0</td>\n",
"      <td>...</td>\n",
"      <td>0.0</td>\n",
"      <td>0.0</td>\n",
"      <td>0.0</td>\n",
"      <td>0.0</td>\n",
"      <td>0.0</td>\n",
"      <td>0.0</td>\n",
"      <td>1.0</td>\n",
"      <td>0.0</td>\n",
"      <td>0.0</td>\n",
"      <td>0.0</td>\n",
"    </tr>\n",
"    <tr>\n",
"      <th>19892</th>\n",
"      <td>0.0</td>\n",
"      <td>0.0</td>\n",
"      <td>1.0</td>\n",
"      <td>0.0</td>\n",
"      <td>0.0</td>\n",
"      <td>0.0</td>\n",
"      <td>1.0</td>\n",
"      <td>0.0</td>\n",
"      <td>0.0</td>\n",
"      <td>0.0</td>\n",
"      <td>...</td>\n",
"      <td>0.0</td>\n",
"      <td>0.0</td>\n",
"      <td>0.0</td>\n",
"      <td>0.0</td>\n",
"      <td>0.0</td>\n",
"      <td>0.0</td>\n",
"      <td>0.0</td>\n",
"      <td>0.0</td>\n",
"      <td>1.0</td>\n",
"      <td>0.0</td>\n",
"    </tr>\n",
"    <tr>\n",
"      <th>61968</th>\n",
"      <td>1.0</td>\n",
"      <td>0.0</td>\n",
"      <td>0.0</td>\n",
"      <td>0.0</td>\n",
"      <td>0.0</td>\n",
"      <td>0.0</td>\n",
"      <td>0.0</td>\n",
"      <td>0.0</td>\n",
"      <td>1.0</td>\n",
"      <td>0.0</td>\n",
"      <td>...</td>\n",
"      <td>0.0</td>\n",
"      <td>0.0</td>\n",
"      <td>0.0</td>\n",
"      <td>1.0</td>\n",
"      <td>0.0</td>\n",
"      <td>0.0</td>\n",
"      <td>1.0</td>\n",
"      <td>0.0</td>\n",
"      <td>0.0</td>\n",
"      <td>0.0</td>\n",
"    </tr>\n",
"    <tr>\n",
"      <th>39509</th>\n",
"      <td>0.0</td>\n",
"      <td>1.0</td>\n",
"      <td>0.0</td>\n",
"      <td>0.0</td>\n",
"      <td>0.0</td>\n",
"      <td>0.0</td>\n",
"      <td>1.0</td>\n",
"      <td>0.0</td>\n",
"      <td>0.0</td>\n",
"      <td>0.0</td>\n",
"      <td>...</td>\n",
"      <td>0.0</td>\n",
"      <td>0.0</td>\n",
"      <td>0.0</td>\n",
"      <td>0.0</td>\n",
"      <td>0.0</td>\n",
"      <td>0.0</td>\n",
"      <td>0.0</td>\n",
"      <td>0.0</td>\n",
"      <td>1.0</td>\n",
"      <td>0.0</td>\n",
"    </tr>\n",
"    <tr>\n",
"      <th>55054</th>\n",
"      <td>0.0</td>\n",
"      <td>0.0</td>\n",
"      <td>1.0</td>\n",
"      <td>0.0</td>\n",
"      <td>0.0</td>\n",
"      <td>0.0</td>\n",
"      <td>0.0</td>\n",
"      <td>0.0</td>\n",
"      <td>0.0</td>\n",
"      <td>0.0</td>\n",
"      <td>...</td>\n",
"      <td>0.0</td>\n",
"      <td>0.0</td>\n",
"      <td>0.0</td>\n",
"      <td>0.0</td>\n",
"      <td>0.0</td>\n",
"      <td>0.0</td>\n",
"      <td>0.0</td>\n",
"      <td>0.0</td>\n",
"      <td>0.0</td>\n",
"      <td>1.0</td>\n",
"    </tr>\n",
"  </tbody>\n",
"</table>\n",
"<p>5 rows Ã— 78 columns</p>\n",
"</div>"
],
"text/plain": [
"       Auction_ADESA  Auction_MANHEIM  Auction_OTHER  Make_ACURA  Make_BUICK  \\\n",
"59150            0.0              1.0            0.0         0.0         0.0   \n",
"19892            0.0              0.0            1.0         0.0         0.0   \n",
"61968            1.0              0.0            0.0         0.0         0.0   \n",
"39509            0.0              1.0            0.0         0.0         0.0   \n",
"55054            0.0              0.0            1.0         0.0         0.0   \n",
"\n",
"       Make_CADILLAC  Make_CHEVROLET  Make_CHRYSLER  Make_DODGE  Make_FORD  \\\n",
"59150            0.0             0.0            1.0         0.0        0.0   \n",
"19892            0.0             1.0            0.0         0.0        0.0   \n",
"61968            0.0             0.0            0.0         1.0        0.0   \n",
"39509            0.0             1.0            0.0         0.0        0.0   \n",
"55054            0.0             0.0            0.0         0.0        0.0   \n",
"\n",
"       ...  Size_MEDIUM SUV  Size_SMALL SUV  Size_SMALL TRUCK  Size_SPECIALTY  \\\n",
"59150  ...              0.0             0.0               0.0             0.0   \n",
"19892  ...              0.0             0.0               0.0             0.0   \n",
"61968  ...              0.0             0.0               0.0             1.0   \n",
"39509  ...              0.0             0.0               0.0             0.0   \n",
"55054  ...              0.0             0.0               0.0             0.0   \n",
"\n",
"       Size_SPORTS  Size_VAN  TopThreeAmericanName_CHRYSLER  \\\n",
"59150          0.0       0.0                            1.0   \n",
"19892          0.0       0.0                            0.0   \n",
"61968          0.0       0.0                            1.0   \n",
"39509          0.0       0.0                            0.0   \n",
"55054          0.0       0.0                            0.0   \n",
"\n",
"       TopThreeAmericanName_FORD  TopThreeAmericanName_GM  \\\n",
"59150                        0.0                      0.0   \n",
"19892                        0.0                      1.0   \n",
"61968                        0.0                      0.0   \n",
"39509                        0.0                      1.0   \n",
"55054                        0.0                      0.0   \n",
"\n",
"       TopThreeAmericanName_OTHER  \n",
"59150                         0.0  \n",
"19892                         0.0  \n",
"61968                         0.0  \n",
"39509                         0.0  \n",
"55054                         1.0  \n",
"\n",
"[5 rows x 78 columns]"
]
},
"execution_count": 38,
"metadata": {},
"output_type": "execute_result"
}
],
"source": [
"train_input[encoded_cols].head()"
]
},
{
"cell_type": "code",
"execution_count": 39,
"metadata": {},
"outputs": [],
"source": [
"X_train = train_input[numerical_cols + encoded_cols]\n",
"X_val = val_input[numerical_cols + encoded_cols]\n",
"X_test = test_input[numerical_cols + encoded_cols]"
]
},
{
"cell_type": "code",
"execution_count": 40,
"metadata": {},
"outputs": [
{
"data": {
"text/html": [
"<div>\n",
"<style scoped>\n",
"    .dataframe tbody tr th:only-of-type {\n",
"        vertical-align: middle;\n",
"    }\n",
"\n",
"    .dataframe tbody tr th {\n",
"        vertical-align: top;\n",
"    }\n",
"\n",
"    .dataframe thead th {\n",
"        text-align: right;\n",
"    }\n",
"</style>\n",
"<table border=\"1\" class=\"dataframe\">\n",
"  <thead>\n",
"    <tr style=\"text-align: right;\">\n",
"      <th></th>\n",
"      <th>VehicleAge</th>\n",
"      <th>VehOdo</th>\n",
"      <th>MMRAcquisitionAuctionAveragePrice</th>\n",
"      <th>MMRAcquisitionAuctionCleanPrice</th>\n",
"      <th>MMRAcquisitionRetailAveragePrice</th>\n",
"      <th>MMRAcquisitonRetailCleanPrice</th>\n",
"      <th>MMRCurrentAuctionAveragePrice</th>\n",
"      <th>MMRCurrentAuctionCleanPrice</th>\n",
"      <th>MMRCurrentRetailAveragePrice</th>\n",
"      <th>MMRCurrentRetailCleanPrice</th>\n",
"      <th>...</th>\n",
"      <th>Size_MEDIUM SUV</th>\n",
"      <th>Size_SMALL SUV</th>\n",
"      <th>Size_SMALL TRUCK</th>\n",
"      <th>Size_SPECIALTY</th>\n",
"      <th>Size_SPORTS</th>\n",
"      <th>Size_VAN</th>\n",
"      <th>TopThreeAmericanName_CHRYSLER</th>\n",
"      <th>TopThreeAmericanName_FORD</th>\n",
"      <th>TopThreeAmericanName_GM</th>\n",
"      <th>TopThreeAmericanName_OTHER</th>\n",
"    </tr>\n",
"  </thead>\n",
"  <tbody>\n",
"    <tr>\n",
"      <th>59150</th>\n",
"      <td>0.333333</td>\n",
"      <td>0.573946</td>\n",
"      <td>0.155758</td>\n",
"      <td>0.178952</td>\n",
"      <td>0.166556</td>\n",
"      <td>0.183791</td>\n",
"      <td>0.143189</td>\n",
"      <td>0.169457</td>\n",
"      <td>0.154145</td>\n",
"      <td>0.176465</td>\n",
"      <td>...</td>\n",
"      <td>0.0</td>\n",
"      <td>0.0</td>\n",
"      <td>0.0</td>\n",
"      <td>0.0</td>\n",
"      <td>0.0</td>\n",
"      <td>0.0</td>\n",
"      <td>1.0</td>\n",
"      <td>0.0</td>\n",
"      <td>0.0</td>\n",
"      <td>0.0</td>\n",
"    </tr>\n",
"    <tr>\n",
"      <th>19892</th>\n",
"      <td>0.111111</td>\n",
"      <td>0.632904</td>\n",
"      <td>0.224092</td>\n",
"      <td>0.251282</td>\n",
"      <td>0.234007</td>\n",
"      <td>0.253194</td>\n",
"      <td>0.223588</td>\n",
"      <td>0.250604</td>\n",
"      <td>0.300844</td>\n",
"      <td>0.324095</td>\n",
"      <td>...</td>\n",
"      <td>0.0</td>\n",
"      <td>0.0</td>\n",
"      <td>0.0</td>\n",
"      <td>0.0</td>\n",
"      <td>0.0</td>\n",
"      <td>0.0</td>\n",
"      <td>0.0</td>\n",
"      <td>0.0</td>\n",
"      <td>1.0</td>\n",
"      <td>0.0</td>\n",
"    </tr>\n",
"    <tr>\n",
"      <th>61968</th>\n",
"      <td>0.555556</td>\n",
"      <td>0.643094</td>\n",
"      <td>0.215637</td>\n",
"      <td>0.246995</td>\n",
"      <td>0.299053</td>\n",
"      <td>0.308471</td>\n",
"      <td>0.206735</td>\n",
"      <td>0.246507</td>\n",
"      <td>0.285977</td>\n",
"      <td>0.317155</td>\n",
"      <td>...</td>\n",
"      <td>0.0</td>\n",
"      <td>0.0</td>\n",
"      <td>0.0</td>\n",
"      <td>1.0</td>\n",
"      <td>0.0</td>\n",
"      <td>0.0</td>\n",
"      <td>1.0</td>\n",
"      <td>0.0</td>\n",
"      <td>0.0</td>\n",
"      <td>0.0</td>\n",
"    </tr>\n",
"    <tr>\n",
"      <th>39509</th>\n",
"      <td>0.333333</td>\n",
"      <td>0.590367</td>\n",
"      <td>0.192234</td>\n",
"      <td>0.221140</td>\n",
"      <td>0.202559</td>\n",
"      <td>0.224266</td>\n",
"      <td>0.192234</td>\n",
"      <td>0.221140</td>\n",
"      <td>0.202559</td>\n",
"      <td>0.226560</td>\n",
"      <td>...</td>\n",
"      <td>0.0</td>\n",
"      <td>0.0</td>\n",
"      <td>0.0</td>\n",
"      <td>0.0</td>\n",
"      <td>0.0</td>\n",
"      <td>0.0</td>\n",
"      <td>0.0</td>\n",
"      <td>0.0</td>\n",
"      <td>1.0</td>\n",
"      <td>0.0</td>\n",
"    </tr>\n",
"    <tr>\n",
"      <th>55054</th>\n",
"      <td>0.555556</td>\n",
"      <td>0.413808</td>\n",
"      <td>0.235765</td>\n",
"      <td>0.278548</td>\n",
"      <td>0.245548</td>\n",
"      <td>0.279350</td>\n",
"      <td>0.238089</td>\n",
"      <td>0.272986</td>\n",
"      <td>0.247825</td>\n",
"      <td>0.276825</td>\n",
"      <td>...</td>\n",
"      <td>0.0</td>\n",
"      <td>0.0</td>\n",
"      <td>0.0</td>\n",
"      <td>0.0</td>\n",
"      <td>0.0</td>\n",
"      <td>0.0</td>\n",
"      <td>0.0</td>\n",
"      <td>0.0</td>\n",
"      <td>0.0</td>\n",
"      <td>1.0</td>\n",
"    </tr>\n",
"  </tbody>\n",
"</table>\n",
"<p>5 rows Ã— 91 columns</p>\n",
"</div>"
],
"text/plain": [
"       VehicleAge    VehOdo  MMRAcquisitionAuctionAveragePrice  \\\n",
"59150    0.333333  0.573946                           0.155758   \n",
"19892    0.111111  0.632904                           0.224092   \n",
"61968    0.555556  0.643094                           0.215637   \n",
"39509    0.333333  0.590367                           0.192234   \n",
"55054    0.555556  0.413808                           0.235765   \n",
"\n",
"       MMRAcquisitionAuctionCleanPrice  MMRAcquisitionRetailAveragePrice  \\\n",
"59150                         0.178952                          0.166556   \n",
"19892                         0.251282                          0.234007   \n",
"61968                         0.246995                          0.299053   \n",
"39509                         0.221140                          0.202559   \n",
"55054                         0.278548                          0.245548   \n",
"\n",
"       MMRAcquisitonRetailCleanPrice  MMRCurrentAuctionAveragePrice  \\\n",
"59150                       0.183791                       0.143189   \n",
"19892                       0.253194                       0.223588   \n",
"61968                       0.308471                       0.206735   \n",
"39509                       0.224266                       0.192234   \n",
"55054                       0.279350                       0.238089   \n",
"\n",
"       MMRCurrentAuctionCleanPrice  MMRCurrentRetailAveragePrice  \\\n",
"59150                     0.169457                      0.154145   \n",
"19892                     0.250604                      0.300844   \n",
"61968                     0.246507                      0.285977   \n",
"39509                     0.221140                      0.202559   \n",
"55054                     0.272986                      0.247825   \n",
"\n",
"       MMRCurrentRetailCleanPrice  ...  Size_MEDIUM SUV  Size_SMALL SUV  \\\n",
"59150                    0.176465  ...              0.0             0.0   \n",
"19892                    0.324095  ...              0.0             0.0   \n",
"61968                    0.317155  ...              0.0             0.0   \n",
"39509                    0.226560  ...              0.0             0.0   \n",
"55054                    0.276825  ...              0.0             0.0   \n",
"\n",
"       Size_SMALL TRUCK  Size_SPECIALTY  Size_SPORTS  Size_VAN  \\\n",
"59150               0.0             0.0          0.0       0.0   \n",
"19892               0.0             0.0          0.0       0.0   \n",
"61968               0.0             1.0          0.0       0.0   \n",
"39509               0.0             0.0          0.0       0.0   \n",
"55054               0.0             0.0          0.0       0.0   \n",
"\n",
"       TopThreeAmericanName_CHRYSLER  TopThreeAmericanName_FORD  \\\n",
"59150                            1.0                        0.0   \n",
"19892                            0.0                        0.0   \n",
"61968                            1.0                        0.0   \n",
"39509                            0.0                        0.0   \n",
"55054                            0.0                        0.0   \n",
"\n",
"       TopThreeAmericanName_GM  TopThreeAmericanName_OTHER  \n",
"59150                      0.0                         0.0  \n",
"19892                      1.0                         0.0  \n",
"61968                      0.0                         0.0  \n",
"39509                      1.0                         0.0  \n",
"55054                      0.0                         1.0  \n",
"\n",
"[5 rows x 91 columns]"
]
},
"execution_count": 40,
"metadata": {},
"output_type": "execute_result"
}
],
"source": [
"X_train.head()"
]
},
{
"cell_type": "code",
"execution_count": null,
"metadata": {},
"outputs": [],
"source": [
"# jovian.commit()"
]
},
{
"cell_type": "markdown",
"metadata": {},
"source": [
"## Training the Model"
]
},
{
"cell_type": "markdown",
"metadata": {},
"source": [
"Let's check if the data is balanced."
]
},
{
"cell_type": "code",
"execution_count": 41,
"metadata": {},
"outputs": [
{
"data": {
"text/plain": [
"0    57607\n",
"1     8077\n",
"Name: IsBadBuy, dtype: int64"
]
},
"execution_count": 41,
"metadata": {},
"output_type": "execute_result"
}
],
"source": [
"train_target.value_counts()"
]
},
{
"cell_type": "markdown",
"metadata": {},
"source": [
"The data is highly imbalanced. This will definitely hamper out training. We will need to oversample the data. We will use SMOTE for this purpose."
]
},
{
"cell_type": "code",
"execution_count": 42,
"metadata": {},
"outputs": [],
"source": [
"smote = SMOTE(random_state=42)\n",
"X_train_smote, train_target_smote = smote.fit_resample(X_train, train_target)"
]
},
{
"cell_type": "code",
"execution_count": 43,
"metadata": {},
"outputs": [
{
"data": {
"text/plain": [
"0    57607\n",
"1    57607\n",
"Name: IsBadBuy, dtype: int64"
]
},
"execution_count": 43,
"metadata": {},
"output_type": "execute_result"
}
],
"source": [
"train_target_smote.value_counts()"
]
},
{
"cell_type": "markdown",
"metadata": {},
"source": [
"### Logistic Regression"
]
},
{
"cell_type": "code",
"execution_count": 44,
"metadata": {},
"outputs": [
{
"data": {
"text/html": [
"<style>#sk-container-id-3 {color: black;background-color: white;}#sk-container-id-3 pre{padding: 0;}#sk-container-id-3 div.sk-toggleable {background-color: white;}#sk-container-id-3 label.sk-toggleable__label {cursor: pointer;display: block;width: 100%;margin-bottom: 0;padding: 0.3em;box-sizing: border-box;text-align: center;}#sk-container-id-3 label.sk-toggleable__label-arrow:before {content: \"â–¸\";float: left;margin-right: 0.25em;color: #696969;}#sk-container-id-3 label.sk-toggleable__label-arrow:hover:before {color: black;}#sk-container-id-3 div.sk-estimator:hover label.sk-toggleable__label-arrow:before {color: black;}#sk-container-id-3 div.sk-toggleable__content {max-height: 0;max-width: 0;overflow: hidden;text-align: left;background-color: #f0f8ff;}#sk-container-id-3 div.sk-toggleable__content pre {margin: 0.2em;color: black;border-radius: 0.25em;background-color: #f0f8ff;}#sk-container-id-3 input.sk-toggleable__control:checked~div.sk-toggleable__content {max-height: 200px;max-width: 100%;overflow: auto;}#sk-container-id-3 input.sk-toggleable__control:checked~label.sk-toggleable__label-arrow:before {content: \"â–¾\";}#sk-container-id-3 div.sk-estimator input.sk-toggleable__control:checked~label.sk-toggleable__label {background-color: #d4ebff;}#sk-container-id-3 div.sk-label input.sk-toggleable__control:checked~label.sk-toggleable__label {background-color: #d4ebff;}#sk-container-id-3 input.sk-hidden--visually {border: 0;clip: rect(1px 1px 1px 1px);clip: rect(1px, 1px, 1px, 1px);height: 1px;margin: -1px;overflow: hidden;padding: 0;position: absolute;width: 1px;}#sk-container-id-3 div.sk-estimator {font-family: monospace;background-color: #f0f8ff;border: 1px dotted black;border-radius: 0.25em;box-sizing: border-box;margin-bottom: 0.5em;}#sk-container-id-3 div.sk-estimator:hover {background-color: #d4ebff;}#sk-container-id-3 div.sk-parallel-item::after {content: \"\";width: 100%;border-bottom: 1px solid gray;flex-grow: 1;}#sk-container-id-3 div.sk-label:hover label.sk-toggleable__label {background-color: #d4ebff;}#sk-container-id-3 div.sk-serial::before {content: \"\";position: absolute;border-left: 1px solid gray;box-sizing: border-box;top: 0;bottom: 0;left: 50%;z-index: 0;}#sk-container-id-3 div.sk-serial {display: flex;flex-direction: column;align-items: center;background-color: white;padding-right: 0.2em;padding-left: 0.2em;position: relative;}#sk-container-id-3 div.sk-item {position: relative;z-index: 1;}#sk-container-id-3 div.sk-parallel {display: flex;align-items: stretch;justify-content: center;background-color: white;position: relative;}#sk-container-id-3 div.sk-item::before, #sk-container-id-3 div.sk-parallel-item::before {content: \"\";position: absolute;border-left: 1px solid gray;box-sizing: border-box;top: 0;bottom: 0;left: 50%;z-index: -1;}#sk-container-id-3 div.sk-parallel-item {display: flex;flex-direction: column;z-index: 1;position: relative;background-color: white;}#sk-container-id-3 div.sk-parallel-item:first-child::after {align-self: flex-end;width: 50%;}#sk-container-id-3 div.sk-parallel-item:last-child::after {align-self: flex-start;width: 50%;}#sk-container-id-3 div.sk-parallel-item:only-child::after {width: 0;}#sk-container-id-3 div.sk-dashed-wrapped {border: 1px dashed gray;margin: 0 0.4em 0.5em 0.4em;box-sizing: border-box;padding-bottom: 0.4em;background-color: white;}#sk-container-id-3 div.sk-label label {font-family: monospace;font-weight: bold;display: inline-block;line-height: 1.2em;}#sk-container-id-3 div.sk-label-container {text-align: center;}#sk-container-id-3 div.sk-container {/* jupyter's `normalize.less` sets `[hidden] { display: none; }` but bootstrap.min.css set `[hidden] { display: none !important; }` so we also need the `!important` here to be able to override the default hidden behavior on the sphinx rendered scikit-learn.org. See: https://github.com/scikit-learn/scikit-learn/issues/21755 */display: inline-block !important;position: relative;}#sk-container-id-3 div.sk-text-repr-fallback {display: none;}</style><div id=\"sk-container-id-3\" class=\"sk-top-container\"><div class=\"sk-text-repr-fallback\"><pre>LogisticRegression(random_state=42, solver=&#x27;liblinear&#x27;)</pre><b>In a Jupyter environment, please rerun this cell to show the HTML representation or trust the notebook. <br />On GitHub, the HTML representation is unable to render, please try loading this page with nbviewer.org.</b></div><div class=\"sk-container\" hidden><div class=\"sk-item\"><div class=\"sk-estimator sk-toggleable\"><input class=\"sk-toggleable__control sk-hidden--visually\" id=\"sk-estimator-id-3\" type=\"checkbox\" checked><label for=\"sk-estimator-id-3\" class=\"sk-toggleable__label sk-toggleable__label-arrow\">LogisticRegression</label><div class=\"sk-toggleable__content\"><pre>LogisticRegression(random_state=42, solver=&#x27;liblinear&#x27;)</pre></div></div></div></div></div>"
],
"text/plain": [
"LogisticRegression(random_state=42, solver='liblinear')"
]
},
"execution_count": 44,
"metadata": {},
"output_type": "execute_result"
}
],
"source": [
"logreg = LogisticRegression(random_state=42, solver='liblinear')\n",
"logreg.fit(X_train_smote, train_target_smote)"
]
},
{
"cell_type": "code",
"execution_count": 45,
"metadata": {},
"outputs": [
{
"name": "stdout",
"output_type": "stream",
"text": [
"Train accuracy: 0.6430789842275135\n",
"Val accuracy: 0.6363885463762159\n"
]
}
],
"source": [
"train_pred = logreg.predict(X_train)\n",
"train_acc = accuracy_score(train_target, train_pred)\n",
"\n",
"val_pred = logreg.predict(X_val)\n",
"val_acc = accuracy_score(val_target, val_pred)\n",
"\n",
"print(f\"\"\"Train accuracy: {train_acc}\n",
"Val accuracy: {val_acc}\"\"\")"
]
},
{
"cell_type": "markdown",
"metadata": {},
"source": [
"### Random Forest Classifier"
]
},
{
"cell_type": "code",
"execution_count": 46,
"metadata": {},
"outputs": [
{
"data": {
"text/html": [
"<style>#sk-container-id-4 {color: black;background-color: white;}#sk-container-id-4 pre{padding: 0;}#sk-container-id-4 div.sk-toggleable {background-color: white;}#sk-container-id-4 label.sk-toggleable__label {cursor: pointer;display: block;width: 100%;margin-bottom: 0;padding: 0.3em;box-sizing: border-box;text-align: center;}#sk-container-id-4 label.sk-toggleable__label-arrow:before {content: \"â–¸\";float: left;margin-right: 0.25em;color: #696969;}#sk-container-id-4 label.sk-toggleable__label-arrow:hover:before {color: black;}#sk-container-id-4 div.sk-estimator:hover label.sk-toggleable__label-arrow:before {color: black;}#sk-container-id-4 div.sk-toggleable__content {max-height: 0;max-width: 0;overflow: hidden;text-align: left;background-color: #f0f8ff;}#sk-container-id-4 div.sk-toggleable__content pre {margin: 0.2em;color: black;border-radius: 0.25em;background-color: #f0f8ff;}#sk-container-id-4 input.sk-toggleable__control:checked~div.sk-toggleable__content {max-height: 200px;max-width: 100%;overflow: auto;}#sk-container-id-4 input.sk-toggleable__control:checked~label.sk-toggleable__label-arrow:before {content: \"â–¾\";}#sk-container-id-4 div.sk-estimator input.sk-toggleable__control:checked~label.sk-toggleable__label {background-color: #d4ebff;}#sk-container-id-4 div.sk-label input.sk-toggleable__control:checked~label.sk-toggleable__label {background-color: #d4ebff;}#sk-container-id-4 input.sk-hidden--visually {border: 0;clip: rect(1px 1px 1px 1px);clip: rect(1px, 1px, 1px, 1px);height: 1px;margin: -1px;overflow: hidden;padding: 0;position: absolute;width: 1px;}#sk-container-id-4 div.sk-estimator {font-family: monospace;background-color: #f0f8ff;border: 1px dotted black;border-radius: 0.25em;box-sizing: border-box;margin-bottom: 0.5em;}#sk-container-id-4 div.sk-estimator:hover {background-color: #d4ebff;}#sk-container-id-4 div.sk-parallel-item::after {content: \"\";width: 100%;border-bottom: 1px solid gray;flex-grow: 1;}#sk-container-id-4 div.sk-label:hover label.sk-toggleable__label {background-color: #d4ebff;}#sk-container-id-4 div.sk-serial::before {content: \"\";position: absolute;border-left: 1px solid gray;box-sizing: border-box;top: 0;bottom: 0;left: 50%;z-index: 0;}#sk-container-id-4 div.sk-serial {display: flex;flex-direction: column;align-items: center;background-color: white;padding-right: 0.2em;padding-left: 0.2em;position: relative;}#sk-container-id-4 div.sk-item {position: relative;z-index: 1;}#sk-container-id-4 div.sk-parallel {display: flex;align-items: stretch;justify-content: center;background-color: white;position: relative;}#sk-container-id-4 div.sk-item::before, #sk-container-id-4 div.sk-parallel-item::before {content: \"\";position: absolute;border-left: 1px solid gray;box-sizing: border-box;top: 0;bottom: 0;left: 50%;z-index: -1;}#sk-container-id-4 div.sk-parallel-item {display: flex;flex-direction: column;z-index: 1;position: relative;background-color: white;}#sk-container-id-4 div.sk-parallel-item:first-child::after {align-self: flex-end;width: 50%;}#sk-container-id-4 div.sk-parallel-item:last-child::after {align-self: flex-start;width: 50%;}#sk-container-id-4 div.sk-parallel-item:only-child::after {width: 0;}#sk-container-id-4 div.sk-dashed-wrapped {border: 1px dashed gray;margin: 0 0.4em 0.5em 0.4em;box-sizing: border-box;padding-bottom: 0.4em;background-color: white;}#sk-container-id-4 div.sk-label label {font-family: monospace;font-weight: bold;display: inline-block;line-height: 1.2em;}#sk-container-id-4 div.sk-label-container {text-align: center;}#sk-container-id-4 div.sk-container {/* jupyter's `normalize.less` sets `[hidden] { display: none; }` but bootstrap.min.css set `[hidden] { display: none !important; }` so we also need the `!important` here to be able to override the default hidden behavior on the sphinx rendered scikit-learn.org. See: https://github.com/scikit-learn/scikit-learn/issues/21755 */display: inline-block !important;position: relative;}#sk-container-id-4 div.sk-text-repr-fallback {display: none;}</style><div id=\"sk-container-id-4\" class=\"sk-top-container\"><div class=\"sk-text-repr-fallback\"><pre>RandomForestClassifier(n_jobs=-1, random_state=42)</pre><b>In a Jupyter environment, please rerun this cell to show the HTML representation or trust the notebook. <br />On GitHub, the HTML representation is unable to render, please try loading this page with nbviewer.org.</b></div><div class=\"sk-container\" hidden><div class=\"sk-item\"><div class=\"sk-estimator sk-toggleable\"><input class=\"sk-toggleable__control sk-hidden--visually\" id=\"sk-estimator-id-4\" type=\"checkbox\" checked><label for=\"sk-estimator-id-4\" class=\"sk-toggleable__label sk-toggleable__label-arrow\">RandomForestClassifier</label><div class=\"sk-toggleable__content\"><pre>RandomForestClassifier(n_jobs=-1, random_state=42)</pre></div></div></div></div></div>"
],
"text/plain": [
"RandomForestClassifier(n_jobs=-1, random_state=42)"
]
},
"execution_count": 46,
"metadata": {},
"output_type": "execute_result"
}
],
"source": [
"random_forest = RandomForestClassifier(\n",
"    n_estimators=100, \n",
"    n_jobs=-1, \n",
"    random_state=42\n",
")\n",
"random_forest.fit(X_train_smote, train_target_smote)"
]
},
{
"cell_type": "code",
"execution_count": 47,
"metadata": {},
"outputs": [
{
"name": "stdout",
"output_type": "stream",
"text": [
"Train accuracy: 1.0\n",
"Val accuracy: 0.8368269625976161\n"
]
}
],
"source": [
"train_pred = random_forest.predict(X_train)\n",
"train_acc = accuracy_score(train_target, train_pred)\n",
"\n",
"val_pred = random_forest.predict(X_val)\n",
"val_acc = accuracy_score(val_target, val_pred)\n",
"\n",
"print(f\"\"\"Train accuracy: {train_acc}\n",
"Val accuracy: {val_acc}\"\"\")"
]
},
{
"cell_type": "code",
"execution_count": 48,
"metadata": {},
"outputs": [
{
"name": "stdout",
"output_type": "stream",
"text": [
"Train accuracy: 0.8500548078679739\n",
"Val accuracy: 0.7525688450472667\n"
]
}
],
"source": [
"random_forest = RandomForestClassifier(\n",
"    n_estimators=500,\n",
"    max_depth=16,\n",
"    n_jobs=-1, \n",
"    random_state=42\n",
")\n",
"random_forest.fit(X_train_smote, train_target_smote)\n",
"train_pred = random_forest.predict(X_train)\n",
"train_acc = accuracy_score(train_target, train_pred)\n",
"\n",
"val_pred = random_forest.predict(X_val)\n",
"val_acc = accuracy_score(val_target, val_pred)\n",
"\n",
"print(f\"\"\"Train accuracy: {train_acc}\n",
"Val accuracy: {val_acc}\"\"\")"
]
},
{
"cell_type": "code",
"execution_count": 49,
"metadata": {},
"outputs": [
{
"name": "stdout",
"output_type": "stream",
"text": [
"Train accuracy: 1.0\n",
"Val accuracy: 0.8354569119057406\n"
]
}
],
"source": [
"random_forest = RandomForestClassifier(\n",
"    n_estimators=100,\n",
"    max_depth=50,\n",
"    n_jobs=-1, \n",
"    random_state=42\n",
")\n",
"random_forest.fit(X_train_smote, train_target_smote)\n",
"train_pred = random_forest.predict(X_train)\n",
"train_acc = accuracy_score(train_target, train_pred)\n",
"\n",
"val_pred = random_forest.predict(X_val)\n",
"val_acc = accuracy_score(val_target, val_pred)\n",
"\n",
"print(f\"\"\"Train accuracy: {train_acc}\n",
"Val accuracy: {val_acc}\"\"\")"
]
},
{
"cell_type": "markdown",
"metadata": {},
"source": [
"Let's check if the model performes better if data was imbalanced"
]
},
{
"cell_type": "code",
"execution_count": 50,
"metadata": {},
"outputs": [
{
"name": "stdout",
"output_type": "stream",
"text": [
"Train accuracy: 0.999969551184459\n",
"Val accuracy: 0.8762844225236334\n",
"Classification report:\n",
"              precision    recall  f1-score   support\n",
"\n",
"           0       0.88      0.99      0.93      6400\n",
"           1       0.47      0.03      0.06       899\n",
"\n",
"    accuracy                           0.88      7299\n",
"   macro avg       0.67      0.51      0.50      7299\n",
"weighted avg       0.83      0.88      0.83      7299\n",
"\n"
]
}
],
"source": [
"random_forest = RandomForestClassifier(\n",
"    n_estimators=100,\n",
"    n_jobs=-1, \n",
"    random_state=42\n",
")\n",
"random_forest.fit(X_train, train_target)\n",
"\n",
"train_pred = random_forest.predict(X_train)\n",
"train_acc = accuracy_score(train_target, train_pred)\n",
"\n",
"val_pred = random_forest.predict(X_val)\n",
"val_acc = accuracy_score(val_target, val_pred)\n",
"\n",
"report = classification_report(val_target, val_pred)\n",
"\n",
"print(f\"\"\"Train accuracy: {train_acc}\n",
"Val accuracy: {val_acc}\"\"\")\n",
"\n",
"print(f\"\"\"Classification report:\n",
"{report}\"\"\")"
]
},
{
"cell_type": "markdown",
"metadata": {},
"source": [
"Surprisingly, model performes well in case of imbalanced data. We will finetune this model using other hyperparameters and chose the best paramameters. "
]
},
{
"cell_type": "code",
"execution_count": 73,
"metadata": {},
"outputs": [],
"source": [
"def run_with_hyperparams(n_estimators=100, n_jobs=-1, random_state=42, **kwargs):\n",
"    random_forest = RandomForestClassifier(\n",
"        n_estimators=n_estimators,\n",
"        n_jobs=n_jobs,\n",
"        random_state=random_state,\n",
"        **kwargs\n",
"    )\n",
"    random_forest.fit(X_train, train_target)\n",
"\n",
"    train_pred = random_forest.predict(X_train)\n",
"    train_acc = accuracy_score(train_target, train_pred)\n",
"\n",
"    val_pred = random_forest.predict(X_val)\n",
"    val_acc = accuracy_score(val_target, val_pred)\n",
"\n",
"    print(f\"\"\"Train accuracy: {train_acc}\n",
"Val accuracy: {val_acc}\"\"\")"
]
},
{
"cell_type": "code",
"execution_count": 58,
"metadata": {},
"outputs": [
{
"name": "stdout",
"output_type": "stream",
"text": [
"Train accuracy: 0.8773369465927775\n",
"Val accuracy: 0.8771064529387588\n"
]
}
],
"source": [
"run_with_hyperparams(max_depth=50, min_samples_split=3, min_samples_leaf=2, max_leaf_nodes=50)"
]
},
{
"cell_type": "code",
"execution_count": 59,
"metadata": {},
"outputs": [
{
"name": "stdout",
"output_type": "stream",
"text": [
"Train accuracy: 0.8773978442238597\n",
"Val accuracy: 0.8771064529387588\n"
]
}
],
"source": [
"run_with_hyperparams(max_depth=50, min_samples_split=6, min_samples_leaf=3, max_leaf_nodes=100)"
]
},
{
"cell_type": "code",
"execution_count": 64,
"metadata": {},
"outputs": [
{
"name": "stdout",
"output_type": "stream",
"text": [
"Train accuracy: 0.999969551184459\n",
"Val accuracy: 0.8762844225236334\n"
]
}
],
"source": [
"run_with_hyperparams(max_depth=100, min_samples_split=2, min_samples_leaf=1)"
]
},
{
"cell_type": "code",
"execution_count": 65,
"metadata": {},
"outputs": [
{
"name": "stdout",
"output_type": "stream",
"text": [
"Train accuracy: 0.9312313501004811\n",
"Val accuracy: 0.8768324428003836\n"
]
}
],
"source": [
"run_with_hyperparams(max_depth=100, min_samples_split=4, min_samples_leaf=2)"
]
},
{
"cell_type": "code",
"execution_count": 66,
"metadata": {},
"outputs": [
{
"name": "stdout",
"output_type": "stream",
"text": [
"Train accuracy: 0.985080080384873\n",
"Val accuracy: 0.8773804630771338\n"
]
}
],
"source": [
"run_with_hyperparams(max_depth=100, min_samples_split=4, min_samples_leaf=1)"
]
},
{
"cell_type": "code",
"execution_count": 68,
"metadata": {},
"outputs": [
{
"name": "stdout",
"output_type": "stream",
"text": [
"Train accuracy: 0.985080080384873\n",
"Val accuracy: 0.8773804630771338\n"
]
}
],
"source": [
"run_with_hyperparams(max_depth=200, min_samples_split=4, min_samples_leaf=1)"
]
},
{
"cell_type": "code",
"execution_count": 69,
"metadata": {},
"outputs": [
{
"name": "stdout",
"output_type": "stream",
"text": [
"Train accuracy: 0.8996407039766153\n",
"Val accuracy: 0.8769694478695712\n"
]
}
],
"source": [
"run_with_hyperparams(max_depth=100, min_samples_split=4, min_samples_leaf=3)"
]
},
{
"cell_type": "code",
"execution_count": 70,
"metadata": {},
"outputs": [
{
"name": "stdout",
"output_type": "stream",
"text": [
"Train accuracy: 0.95356555629986\n",
"Val accuracy: 0.8775174681463214\n"
]
}
],
"source": [
"run_with_hyperparams(max_depth=100, min_samples_split=6, min_samples_leaf=1)"
]
},
{
"cell_type": "code",
"execution_count": 72,
"metadata": {},
"outputs": [
{
"name": "stdout",
"output_type": "stream",
"text": [
"Train accuracy: 0.9162962060775836\n",
"Val accuracy: 0.8762844225236334\n"
]
}
],
"source": [
"run_with_hyperparams(max_depth=100, min_samples_split=6, min_samples_leaf=2)"
]
},
{
"cell_type": "markdown",
"metadata": {},
"source": [
"So, the random forest with the following params performs best, approximately.\n",
"- n_estimators=100\n",
"- max_depth=100 \n",
"- min_samples_split=6 \n",
"- min_samples_leaf=1"
]
},
{
"cell_type": "code",
"execution_count": 74,
"metadata": {},
"outputs": [
{
"name": "stdout",
"output_type": "stream",
"text": [
"Train accuracy: 0.95356555629986\n",
"Val accuracy: 0.8775174681463214\n",
"\n",
"Classification Report:\n",
"              precision    recall  f1-score   support\n",
"\n",
"           0       0.88      1.00      0.93      6400\n",
"           1       0.56      0.02      0.05       899\n",
"\n",
"    accuracy                           0.88      7299\n",
"   macro avg       0.72      0.51      0.49      7299\n",
"weighted avg       0.84      0.88      0.83      7299\n",
"\n"
]
}
],
"source": [
"model = RandomForestClassifier(\n",
"    n_estimators=100,\n",
"    n_jobs=-1,\n",
"    random_state=42,\n",
"    max_depth=100, \n",
"    min_samples_split=6, \n",
"    min_samples_leaf=1\n",
")\n",
"\n",
"model.fit(X_train, train_target)\n",
"\n",
"train_pred = model.predict(X_train)\n",
"train_acc = accuracy_score(train_target, train_pred)\n",
"\n",
"val_pred = model.predict(X_val)\n",
"val_acc = accuracy_score(val_target, val_pred)\n",
"\n",
"report = classification_report(val_target, val_pred)\n",
"\n",
"print(f\"\"\"Train accuracy: {train_acc}\n",
"Val accuracy: {val_acc}\"\"\")\n",
"\n",
"print(\"\\nClassification Report:\")\n",
"print(report)"
]
},
{
"cell_type": "markdown",
"metadata": {},
"source": [
"## Test with the Test Data"
]
},
{
"cell_type": "code",
"execution_count": 75,
"metadata": {},
"outputs": [
{
"data": {
"text/html": [
"<div>\n",
"<style scoped>\n",
"    .dataframe tbody tr th:only-of-type {\n",
"        vertical-align: middle;\n",
"    }\n",
"\n",
"    .dataframe tbody tr th {\n",
"        vertical-align: top;\n",
"    }\n",
"\n",
"    .dataframe thead th {\n",
"        text-align: right;\n",
"    }\n",
"</style>\n",
"<table border=\"1\" class=\"dataframe\">\n",
"  <thead>\n",
"    <tr style=\"text-align: right;\">\n",
"      <th></th>\n",
"      <th>prediction</th>\n",
"    </tr>\n",
"  </thead>\n",
"  <tbody>\n",
"    <tr>\n",
"      <th>0</th>\n",
"      <td>0</td>\n",
"    </tr>\n",
"    <tr>\n",
"      <th>1</th>\n",
"      <td>0</td>\n",
"    </tr>\n",
"    <tr>\n",
"      <th>2</th>\n",
"      <td>0</td>\n",
"    </tr>\n",
"    <tr>\n",
"      <th>3</th>\n",
"      <td>0</td>\n",
"    </tr>\n",
"    <tr>\n",
"      <th>4</th>\n",
"      <td>0</td>\n",
"    </tr>\n",
"    <tr>\n",
"      <th>...</th>\n",
"      <td>...</td>\n",
"    </tr>\n",
"    <tr>\n",
"      <th>48702</th>\n",
"      <td>0</td>\n",
"    </tr>\n",
"    <tr>\n",
"      <th>48703</th>\n",
"      <td>0</td>\n",
"    </tr>\n",
"    <tr>\n",
"      <th>48704</th>\n",
"      <td>0</td>\n",
"    </tr>\n",
"    <tr>\n",
"      <th>48705</th>\n",
"      <td>0</td>\n",
"    </tr>\n",
"    <tr>\n",
"      <th>48706</th>\n",
"      <td>0</td>\n",
"    </tr>\n",
"  </tbody>\n",
"</table>\n",
"<p>48707 rows Ã— 1 columns</p>\n",
"</div>"
],
"text/plain": [
"       prediction\n",
"0               0\n",
"1               0\n",
"2               0\n",
"3               0\n",
"4               0\n",
"...           ...\n",
"48702           0\n",
"48703           0\n",
"48704           0\n",
"48705           0\n",
"48706           0\n",
"\n",
"[48707 rows x 1 columns]"
]
},
"execution_count": 75,
"metadata": {},
"output_type": "execute_result"
}
],
"source": [
"test_pred = model.predict(X_test)\n",
"\n",
"test_df = pd.DataFrame({\n",
"    'prediction': test_pred\n",
"})\n",
"test_df"
]
},
{
"cell_type": "markdown",
"metadata": {},
"source": [
"## References\n",
"1. Correlation matrix Heatmap: [balajinagappan/don-t-get-kicked-sklearn-from-scratch](https://www.kaggle.com/code/balajinagappan/don-t-get-kicked-sklearn-from-scratch)\n",
"2. SMOTE (To solve class imbalance issue): [mahajo/don-t-get-kicked](https://www.kaggle.com/code/mahajo/don-t-get-kicked)"
]
},
{
"cell_type": "code",
"execution_count": null,
"metadata": {},
"outputs": [
{
"data": {
"application/javascript": [
"window.require && require([\"base/js/namespace\"],function(Jupyter){Jupyter.notebook.save_checkpoint()})"
],
"text/plain": [
"<IPython.core.display.Javascript object>"
]
},
"metadata": {},
"output_type": "display_data"
}
],
"source": [
"jovian.commit()"
]
}
],
"metadata": {
"colab": {
"provenance": []
},
"kernelspec": {
"display_name": "Python 3 (ipykernel)",
"language": "python",
"name": "python3"
},
"language_info": {
"codemirror_mode": {
"name": "ipython",
"version": 3
},
"file_extension": ".py",
"mimetype": "text/x-python",
"name": "python",
"nbconvert_exporter": "python",
"pygments_lexer": "ipython3",
"version": "3.9.7"
}
},
"nbformat": 4,
"nbformat_minor": 1
}
